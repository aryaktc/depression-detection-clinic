{
  "cells": [
    {
      "cell_type": "markdown",
      "metadata": {},
      "source": []
    },
    {
      "cell_type": "markdown",
      "metadata": {
        "id": "8cc64781"
      },
      "source": [
        "## Model evaluation\n",
        "\n",
        "### Subtask:\n",
        "Evaluate the trained models on the testing data to find their accuracy."
      ]
    },
    {
      "cell_type": "markdown",
      "metadata": {
        "id": "9291d49e"
      },
      "source": [
        "**Reasoning**:\n",
        "Import the necessary metric, make predictions using the trained models, calculate the accuracy for each model, and print the results."
      ]
    },
    {
      "cell_type": "code",
      "execution_count": null,
      "metadata": {
        "colab": {
          "base_uri": "https://localhost:8080/"
        },
        "id": "1b0092b7",
        "outputId": "3c686e2a-413b-46e2-c4fc-6da22bbe27bd"
      },
      "outputs": [
        {
          "ename": "ModuleNotFoundError",
          "evalue": "No module named 'sklearn'",
          "output_type": "error",
          "traceback": [
            "\u001b[1;31m---------------------------------------------------------------------------\u001b[0m",
            "\u001b[1;31mModuleNotFoundError\u001b[0m                       Traceback (most recent call last)",
            "Cell \u001b[1;32mIn[5], line 1\u001b[0m\n\u001b[1;32m----> 1\u001b[0m \u001b[38;5;28;01mfrom\u001b[39;00m\u001b[38;5;250m \u001b[39m\u001b[38;5;21;01msklearn\u001b[39;00m\u001b[38;5;21;01m.\u001b[39;00m\u001b[38;5;21;01mmetrics\u001b[39;00m\u001b[38;5;250m \u001b[39m\u001b[38;5;28;01mimport\u001b[39;00m accuracy_score\n\u001b[0;32m      3\u001b[0m svm_pred \u001b[38;5;241m=\u001b[39m svm_model\u001b[38;5;241m.\u001b[39mpredict(X_test_scaled)\n\u001b[0;32m      4\u001b[0m knn_pred \u001b[38;5;241m=\u001b[39m knn_model\u001b[38;5;241m.\u001b[39mpredict(X_test_scaled)\n",
            "\u001b[1;31mModuleNotFoundError\u001b[0m: No module named 'sklearn'"
          ]
        }
      ],
      "source": [
        "from sklearn.metrics import accuracy_score\n",
        "\n",
        "svm_pred = svm_model.predict(X_test_scaled)\n",
        "knn_pred = knn_model.predict(X_test_scaled)\n",
        "\n",
        "svm_accuracy = accuracy_score(y_test, svm_pred)\n",
        "knn_accuracy = accuracy_score(y_test, knn_pred)\n",
        "\n",
        "print(f\"SVM Model Accuracy: {svm_accuracy:.4f}\")\n",
        "print(f\"KNN Model Accuracy: {knn_accuracy:.4f}\")"
      ]
    },
    {
      "cell_type": "markdown",
      "metadata": {
        "id": "f23ab19c"
      },
      "source": [
        "## Model training\n",
        "\n",
        "### Subtask:\n",
        "Train SVM and KNN models on the training data."
      ]
    },
    {
      "cell_type": "markdown",
      "metadata": {
        "id": "32810e73"
      },
      "source": [
        "**Reasoning**:\n",
        "Import the necessary classifiers and train the SVM and KNN models on the training data."
      ]
    },
    {
      "cell_type": "code",
      "execution_count": null,
      "metadata": {
        "colab": {
          "base_uri": "https://localhost:8080/"
        },
        "id": "be0b3bc7",
        "outputId": "edfd359c-b707-49d9-ff15-dfa657d44b7d"
      },
      "outputs": [
        {
          "name": "stdout",
          "output_type": "stream",
          "text": [
            "SVM model trained.\n",
            "KNN model trained.\n"
          ]
        }
      ],
      "source": [
        "from sklearn.svm import SVC\n",
        "from sklearn.neighbors import KNeighborsClassifier\n",
        "\n",
        "svm_model = SVC(kernel='rbf')\n",
        "knn_model = KNeighborsClassifier(n_neighbors=3)\n",
        "\n",
        "svm_model.fit(X_train_scaled, y_train)\n",
        "knn_model.fit(X_train_scaled, y_train)\n",
        "\n",
        "print(\"SVM model trained.\")\n",
        "print(\"KNN model trained.\")"
      ]
    },
    {
      "cell_type": "markdown",
      "metadata": {
        "id": "83d17c6e"
      },
      "source": [
        "## Split data\n",
        "\n",
        "### Subtask:\n",
        "Split the combined data into training and testing sets (75% training, 25% testing)."
      ]
    },
    {
      "cell_type": "markdown",
      "metadata": {
        "id": "6c115443"
      },
      "source": [
        "**Reasoning**:\n",
        "Split the features and target into training and testing sets."
      ]
    },
    {
      "cell_type": "code",
      "execution_count": null,
      "metadata": {
        "colab": {
          "base_uri": "https://localhost:8080/"
        },
        "id": "5984a8c2",
        "outputId": "c273c7f3-e7b1-4cf4-ba24-74ab76242b71"
      },
      "outputs": [
        {
          "name": "stdout",
          "output_type": "stream",
          "text": [
            "Training set shapes:\n",
            "X_train: (15, 18)\n",
            "y_train: (15,)\n",
            "\n",
            "Testing set shapes:\n",
            "X_test: (5, 18)\n",
            "y_test: (5,)\n"
          ]
        }
      ],
      "source": [
        "from sklearn.model_selection import train_test_split\n",
        "from sklearn.preprocessing import StandardScaler\n",
        "\n",
        "X = features_df.drop('Label', axis=1)\n",
        "y = features_df['Label']\n",
        "\n",
        "X_train, X_test, y_train, y_test = train_test_split(X, y, test_size=0.25, random_state=42)\n",
        "\n",
        "# Scale the features\n",
        "scaler = StandardScaler()\n",
        "X_train_scaled = scaler.fit_transform(X_train)\n",
        "X_test_scaled = scaler.transform(X_test)\n",
        "\n",
        "\n",
        "print(\"Training set shapes:\")\n",
        "print(\"X_train:\", X_train_scaled.shape)\n",
        "print(\"y_train:\", y_train.shape)\n",
        "print(\"\\nTesting set shapes:\")\n",
        "print(\"X_test:\", X_test_scaled.shape)\n",
        "print(\"y_test:\", y_test.shape)"
      ]
    },
    {
      "cell_type": "markdown",
      "metadata": {
        "id": "932fbbf0"
      },
      "source": [
        "## Labeling\n",
        "\n",
        "### Subtask:\n",
        "Label the extracted features based on whether they correspond to MDD or HC subjects, using the provided mapping."
      ]
    },
    {
      "cell_type": "markdown",
      "metadata": {
        "id": "f07047a2"
      },
      "source": [
        "**Reasoning**:\n",
        "Create a mapping of filenames to labels and add a 'Label' column to the features_df DataFrame based on this mapping."
      ]
    },
    {
      "cell_type": "code",
      "execution_count": null,
      "metadata": {
        "colab": {
          "base_uri": "https://localhost:8080/",
          "height": 226
        },
        "id": "5cc5a433",
        "outputId": "755cb608-2be1-41cd-99df-18e99a054a58"
      },
      "outputs": [
        {
          "data": {
            "application/vnd.google.colaboratory.intrinsic+json": {
              "summary": "{\n  \"name\": \"display(features_df\",\n  \"rows\": 5,\n  \"fields\": [\n    {\n      \"column\": \"Channel1_Mean\",\n      \"properties\": {\n        \"dtype\": \"number\",\n        \"std\": 357043.12068680883,\n        \"min\": 4032361.378497146,\n        \"max\": 4941406.399991283,\n        \"num_unique_values\": 5,\n        \"samples\": [\n          4536625.939729898,\n          4207069.216716857,\n          4238314.154073249\n        ],\n        \"semantic_type\": \"\",\n        \"description\": \"\"\n      }\n    },\n    {\n      \"column\": \"Channel2_Mean\",\n      \"properties\": {\n        \"dtype\": \"number\",\n        \"std\": 90082.57760207636,\n        \"min\": 68078.28580924073,\n        \"max\": 288787.71196964267,\n        \"num_unique_values\": 5,\n        \"samples\": [\n          288787.71196964267,\n          264714.2221122639,\n          144558.68853135174\n        ],\n        \"semantic_type\": \"\",\n        \"description\": \"\"\n      }\n    },\n    {\n      \"column\": \"Channel3_Mean\",\n      \"properties\": {\n        \"dtype\": \"number\",\n        \"std\": 273080.70325217047,\n        \"min\": 3901394.0,\n        \"max\": 4549131.0,\n        \"num_unique_values\": 5,\n        \"samples\": [\n          4111437.0,\n          3911394.0,\n          3901394.0\n        ],\n        \"semantic_type\": \"\",\n        \"description\": \"\"\n      }\n    },\n    {\n      \"column\": \"Channel1_Std\",\n      \"properties\": {\n        \"dtype\": \"number\",\n        \"std\": 488679.3255272828,\n        \"min\": 4240778.0,\n        \"max\": 5574587.0,\n        \"num_unique_values\": 5,\n        \"samples\": [\n          5060115.0,\n          4851149.0,\n          4703693.0\n        ],\n        \"semantic_type\": \"\",\n        \"description\": \"\"\n      }\n    },\n    {\n      \"column\": \"Channel2_Std\",\n      \"properties\": {\n        \"dtype\": \"number\",\n        \"std\": 0.3821347288006797,\n        \"min\": 0.3181950424062814,\n        \"max\": 1.3167254029461724,\n        \"num_unique_values\": 5,\n        \"samples\": [\n          0.3181950424062814,\n          1.034041260469712,\n          1.062329504005162\n        ],\n        \"semantic_type\": \"\",\n        \"description\": \"\"\n      }\n    },\n    {\n      \"column\": \"Channel3_Std\",\n      \"properties\": {\n        \"dtype\": \"number\",\n        \"std\": 1.0696830720334656,\n        \"min\": -1.1500365841229783,\n        \"max\": 1.7446401290986877,\n        \"num_unique_values\": 5,\n        \"samples\": [\n          -1.1500365841229783,\n          -0.20944594732227184,\n          0.6528411316343177\n        ],\n        \"semantic_type\": \"\",\n        \"description\": \"\"\n      }\n    },\n    {\n      \"column\": \"Channel1_Min\",\n      \"properties\": {\n        \"dtype\": \"number\",\n        \"std\": 346459.8623882252,\n        \"min\": 4212771.532503706,\n        \"max\": 4972746.659031245,\n        \"num_unique_values\": 5,\n        \"samples\": [\n          4778846.192831038,\n          4212771.532503706,\n          4263656.252846912\n        ],\n        \"semantic_type\": \"\",\n        \"description\": \"\"\n      }\n    },\n    {\n      \"column\": \"Channel2_Min\",\n      \"properties\": {\n        \"dtype\": \"number\",\n        \"std\": 99803.00822729092,\n        \"min\": 82399.68425421847,\n        \"max\": 339204.0351543286,\n        \"num_unique_values\": 5,\n        \"samples\": [\n          339204.0351543286,\n          286620.47466347466,\n          177713.43154694533\n        ],\n        \"semantic_type\": \"\",\n        \"description\": \"\"\n      }\n    },\n    {\n      \"column\": \"Channel3_Min\",\n      \"properties\": {\n        \"dtype\": \"number\",\n        \"std\": 381336.9880783924,\n        \"min\": 3892685.0,\n        \"max\": 4719966.0,\n        \"num_unique_values\": 5,\n        \"samples\": [\n          4281803.0,\n          3910003.0,\n          3892685.0\n        ],\n        \"semantic_type\": \"\",\n        \"description\": \"\"\n      }\n    },\n    {\n      \"column\": \"Channel1_Max\",\n      \"properties\": {\n        \"dtype\": \"number\",\n        \"std\": 419981.2328893995,\n        \"min\": 4782049.0,\n        \"max\": 5815826.0,\n        \"num_unique_values\": 5,\n        \"samples\": [\n          5403423.0,\n          4928986.0,\n          4782049.0\n        ],\n        \"semantic_type\": \"\",\n        \"description\": \"\"\n      }\n    },\n    {\n      \"column\": \"Channel2_Max\",\n      \"properties\": {\n        \"dtype\": \"number\",\n        \"std\": 0.3734224306488957,\n        \"min\": 0.3830900669618408,\n        \"max\": 1.4186083279183397,\n        \"num_unique_values\": 5,\n        \"samples\": [\n          0.3830900669618408,\n          1.07301905546146,\n          0.9143236638088792\n        ],\n        \"semantic_type\": \"\",\n        \"description\": \"\"\n      }\n    },\n    {\n      \"column\": \"Channel3_Max\",\n      \"properties\": {\n        \"dtype\": \"number\",\n        \"std\": 0.9330429225068533,\n        \"min\": -1.0959544525978262,\n        \"max\": 1.3958095318552237,\n        \"num_unique_values\": 5,\n        \"samples\": [\n          -1.0959544525978262,\n          -0.1393742476706068,\n          -0.02674131617398423\n        ],\n        \"semantic_type\": \"\",\n        \"description\": \"\"\n      }\n    },\n    {\n      \"column\": \"Channel1_Skew\",\n      \"properties\": {\n        \"dtype\": \"number\",\n        \"std\": 409607.3232629474,\n        \"min\": 4151114.8096176363,\n        \"max\": 5100301.417138507,\n        \"num_unique_values\": 5,\n        \"samples\": [\n          4639431.625363441,\n          4159028.289063279,\n          4151114.8096176363\n        ],\n        \"semantic_type\": \"\",\n        \"description\": \"\"\n      }\n    },\n    {\n      \"column\": \"Channel2_Skew\",\n      \"properties\": {\n        \"dtype\": \"number\",\n        \"std\": 121118.73346343855,\n        \"min\": 28318.502123391354,\n        \"max\": 351301.47567430296,\n        \"num_unique_values\": 5,\n        \"samples\": [\n          351301.47567430296,\n          277847.7112835702,\n          180784.7838324533\n        ],\n        \"semantic_type\": \"\",\n        \"description\": \"\"\n      }\n    },\n    {\n      \"column\": \"Channel3_Skew\",\n      \"properties\": {\n        \"dtype\": \"number\",\n        \"std\": 508211.81677574164,\n        \"min\": 3774294.0,\n        \"max\": 5040332.0,\n        \"num_unique_values\": 5,\n        \"samples\": [\n          4131673.0,\n          3864903.0,\n          3774294.0\n        ],\n        \"semantic_type\": \"\",\n        \"description\": \"\"\n      }\n    },\n    {\n      \"column\": \"Channel1_Kurtosis\",\n      \"properties\": {\n        \"dtype\": \"number\",\n        \"std\": 318453.7445669308,\n        \"min\": 4691641.0,\n        \"max\": 5414664.0,\n        \"num_unique_values\": 5,\n        \"samples\": [\n          5347978.0,\n          4839297.0,\n          4691641.0\n        ],\n        \"semantic_type\": \"\",\n        \"description\": \"\"\n      }\n    },\n    {\n      \"column\": \"Channel2_Kurtosis\",\n      \"properties\": {\n        \"dtype\": \"number\",\n        \"std\": 0.42261691983751937,\n        \"min\": 0.1669130768123391,\n        \"max\": 1.168108532934206,\n        \"num_unique_values\": 5,\n        \"samples\": [\n          0.4232565746172011,\n          1.064984644052213,\n          0.7483532399758488\n        ],\n        \"semantic_type\": \"\",\n        \"description\": \"\"\n      }\n    },\n    {\n      \"column\": \"Channel3_Kurtosis\",\n      \"properties\": {\n        \"dtype\": \"number\",\n        \"std\": 0.7942801711767281,\n        \"min\": -1.0152515445724386,\n        \"max\": 1.022056622152813,\n        \"num_unique_values\": 5,\n        \"samples\": [\n          -1.0152515445724386,\n          -0.2067560843062135,\n          -0.052255349271516316\n        ],\n        \"semantic_type\": \"\",\n        \"description\": \"\"\n      }\n    },\n    {\n      \"column\": \"Label\",\n      \"properties\": {\n        \"dtype\": \"category\",\n        \"num_unique_values\": 1,\n        \"samples\": [\n          \"MDD\"\n        ],\n        \"semantic_type\": \"\",\n        \"description\": \"\"\n      }\n    }\n  ]\n}",
              "type": "dataframe"
            },
            "text/html": [
              "\n",
              "  <div id=\"df-f927c2bd-f855-4cd2-a319-a6efef403953\" class=\"colab-df-container\">\n",
              "    <div>\n",
              "<style scoped>\n",
              "    .dataframe tbody tr th:only-of-type {\n",
              "        vertical-align: middle;\n",
              "    }\n",
              "\n",
              "    .dataframe tbody tr th {\n",
              "        vertical-align: top;\n",
              "    }\n",
              "\n",
              "    .dataframe thead th {\n",
              "        text-align: right;\n",
              "    }\n",
              "</style>\n",
              "<table border=\"1\" class=\"dataframe\">\n",
              "  <thead>\n",
              "    <tr style=\"text-align: right;\">\n",
              "      <th></th>\n",
              "      <th>Channel1_Mean</th>\n",
              "      <th>Channel2_Mean</th>\n",
              "      <th>Channel3_Mean</th>\n",
              "      <th>Channel1_Std</th>\n",
              "      <th>Channel2_Std</th>\n",
              "      <th>Channel3_Std</th>\n",
              "      <th>Channel1_Min</th>\n",
              "      <th>Channel2_Min</th>\n",
              "      <th>Channel3_Min</th>\n",
              "      <th>Channel1_Max</th>\n",
              "      <th>Channel2_Max</th>\n",
              "      <th>Channel3_Max</th>\n",
              "      <th>Channel1_Skew</th>\n",
              "      <th>Channel2_Skew</th>\n",
              "      <th>Channel3_Skew</th>\n",
              "      <th>Channel1_Kurtosis</th>\n",
              "      <th>Channel2_Kurtosis</th>\n",
              "      <th>Channel3_Kurtosis</th>\n",
              "      <th>Label</th>\n",
              "    </tr>\n",
              "  </thead>\n",
              "  <tbody>\n",
              "    <tr>\n",
              "      <th>02010002_still</th>\n",
              "      <td>4.941406e+06</td>\n",
              "      <td>175808.137454</td>\n",
              "      <td>4549131.0</td>\n",
              "      <td>5574587.0</td>\n",
              "      <td>1.316725</td>\n",
              "      <td>1.744640</td>\n",
              "      <td>4.972747e+06</td>\n",
              "      <td>246017.171435</td>\n",
              "      <td>4598102.0</td>\n",
              "      <td>5815826.0</td>\n",
              "      <td>1.418608</td>\n",
              "      <td>1.395810</td>\n",
              "      <td>4.772154e+06</td>\n",
              "      <td>191933.620032</td>\n",
              "      <td>4392558.0</td>\n",
              "      <td>5414664.0</td>\n",
              "      <td>1.168109</td>\n",
              "      <td>1.022057</td>\n",
              "      <td>MDD</td>\n",
              "    </tr>\n",
              "    <tr>\n",
              "      <th>02010005_still</th>\n",
              "      <td>4.536626e+06</td>\n",
              "      <td>288787.711970</td>\n",
              "      <td>4111437.0</td>\n",
              "      <td>5060115.0</td>\n",
              "      <td>0.318195</td>\n",
              "      <td>-1.150037</td>\n",
              "      <td>4.778846e+06</td>\n",
              "      <td>339204.035154</td>\n",
              "      <td>4281803.0</td>\n",
              "      <td>5403423.0</td>\n",
              "      <td>0.383090</td>\n",
              "      <td>-1.095954</td>\n",
              "      <td>4.639432e+06</td>\n",
              "      <td>351301.475674</td>\n",
              "      <td>4131673.0</td>\n",
              "      <td>5347978.0</td>\n",
              "      <td>0.423257</td>\n",
              "      <td>-1.015252</td>\n",
              "      <td>MDD</td>\n",
              "    </tr>\n",
              "    <tr>\n",
              "      <th>02010006_still</th>\n",
              "      <td>4.238314e+06</td>\n",
              "      <td>144558.688531</td>\n",
              "      <td>3901394.0</td>\n",
              "      <td>4703693.0</td>\n",
              "      <td>1.062330</td>\n",
              "      <td>0.652841</td>\n",
              "      <td>4.263656e+06</td>\n",
              "      <td>177713.431547</td>\n",
              "      <td>3892685.0</td>\n",
              "      <td>4782049.0</td>\n",
              "      <td>0.914324</td>\n",
              "      <td>-0.026741</td>\n",
              "      <td>4.151115e+06</td>\n",
              "      <td>180784.783832</td>\n",
              "      <td>3774294.0</td>\n",
              "      <td>4691641.0</td>\n",
              "      <td>0.748353</td>\n",
              "      <td>-0.052255</td>\n",
              "      <td>MDD</td>\n",
              "    </tr>\n",
              "    <tr>\n",
              "      <th>02010007_still</th>\n",
              "      <td>4.032361e+06</td>\n",
              "      <td>68078.285809</td>\n",
              "      <td>3949625.0</td>\n",
              "      <td>4240778.0</td>\n",
              "      <td>1.132642</td>\n",
              "      <td>0.148677</td>\n",
              "      <td>4.815687e+06</td>\n",
              "      <td>82399.684254</td>\n",
              "      <td>4719966.0</td>\n",
              "      <td>5006114.0</td>\n",
              "      <td>0.924343</td>\n",
              "      <td>-0.596255</td>\n",
              "      <td>5.100301e+06</td>\n",
              "      <td>28318.502123</td>\n",
              "      <td>5040332.0</td>\n",
              "      <td>5202104.0</td>\n",
              "      <td>0.166913</td>\n",
              "      <td>-0.786422</td>\n",
              "      <td>MDD</td>\n",
              "    </tr>\n",
              "    <tr>\n",
              "      <th>02010008_still</th>\n",
              "      <td>4.207069e+06</td>\n",
              "      <td>264714.222112</td>\n",
              "      <td>3911394.0</td>\n",
              "      <td>4851149.0</td>\n",
              "      <td>1.034041</td>\n",
              "      <td>-0.209446</td>\n",
              "      <td>4.212772e+06</td>\n",
              "      <td>286620.474663</td>\n",
              "      <td>3910003.0</td>\n",
              "      <td>4928986.0</td>\n",
              "      <td>1.073019</td>\n",
              "      <td>-0.139374</td>\n",
              "      <td>4.159028e+06</td>\n",
              "      <td>277847.711284</td>\n",
              "      <td>3864903.0</td>\n",
              "      <td>4839297.0</td>\n",
              "      <td>1.064985</td>\n",
              "      <td>-0.206756</td>\n",
              "      <td>MDD</td>\n",
              "    </tr>\n",
              "  </tbody>\n",
              "</table>\n",
              "</div>\n",
              "    <div class=\"colab-df-buttons\">\n",
              "\n",
              "  <div class=\"colab-df-container\">\n",
              "    <button class=\"colab-df-convert\" onclick=\"convertToInteractive('df-f927c2bd-f855-4cd2-a319-a6efef403953')\"\n",
              "            title=\"Convert this dataframe to an interactive table.\"\n",
              "            style=\"display:none;\">\n",
              "\n",
              "  <svg xmlns=\"http://www.w3.org/2000/svg\" height=\"24px\" viewBox=\"0 -960 960 960\">\n",
              "    <path d=\"M120-120v-720h720v720H120Zm60-500h600v-160H180v160Zm220 220h160v-160H400v160Zm0 220h160v-160H400v160ZM180-400h160v-160H180v160Zm440 0h160v-160H620v160ZM180-180h160v-160H180v160Zm440 0h160v-160H620v160Z\"/>\n",
              "  </svg>\n",
              "    </button>\n",
              "\n",
              "  <style>\n",
              "    .colab-df-container {\n",
              "      display:flex;\n",
              "      gap: 12px;\n",
              "    }\n",
              "\n",
              "    .colab-df-convert {\n",
              "      background-color: #E8F0FE;\n",
              "      border: none;\n",
              "      border-radius: 50%;\n",
              "      cursor: pointer;\n",
              "      display: none;\n",
              "      fill: #1967D2;\n",
              "      height: 32px;\n",
              "      padding: 0 0 0 0;\n",
              "      width: 32px;\n",
              "    }\n",
              "\n",
              "    .colab-df-convert:hover {\n",
              "      background-color: #E2EBFA;\n",
              "      box-shadow: 0px 1px 2px rgba(60, 64, 67, 0.3), 0px 1px 3px 1px rgba(60, 64, 67, 0.15);\n",
              "      fill: #174EA6;\n",
              "    }\n",
              "\n",
              "    .colab-df-buttons div {\n",
              "      margin-bottom: 4px;\n",
              "    }\n",
              "\n",
              "    [theme=dark] .colab-df-convert {\n",
              "      background-color: #3B4455;\n",
              "      fill: #D2E3FC;\n",
              "    }\n",
              "\n",
              "    [theme=dark] .colab-df-convert:hover {\n",
              "      background-color: #434B5C;\n",
              "      box-shadow: 0px 1px 3px 1px rgba(0, 0, 0, 0.15);\n",
              "      filter: drop-shadow(0px 1px 2px rgba(0, 0, 0, 0.3));\n",
              "      fill: #FFFFFF;\n",
              "    }\n",
              "  </style>\n",
              "\n",
              "    <script>\n",
              "      const buttonEl =\n",
              "        document.querySelector('#df-f927c2bd-f855-4cd2-a319-a6efef403953 button.colab-df-convert');\n",
              "      buttonEl.style.display =\n",
              "        google.colab.kernel.accessAllowed ? 'block' : 'none';\n",
              "\n",
              "      async function convertToInteractive(key) {\n",
              "        const element = document.querySelector('#df-f927c2bd-f855-4cd2-a319-a6efef403953');\n",
              "        const dataTable =\n",
              "          await google.colab.kernel.invokeFunction('convertToInteractive',\n",
              "                                                    [key], {});\n",
              "        if (!dataTable) return;\n",
              "\n",
              "        const docLinkHtml = 'Like what you see? Visit the ' +\n",
              "          '<a target=\"_blank\" href=https://colab.research.google.com/notebooks/data_table.ipynb>data table notebook</a>'\n",
              "          + ' to learn more about interactive tables.';\n",
              "        element.innerHTML = '';\n",
              "        dataTable['output_type'] = 'display_data';\n",
              "        await google.colab.output.renderOutput(dataTable, element);\n",
              "        const docLink = document.createElement('div');\n",
              "        docLink.innerHTML = docLinkHtml;\n",
              "        element.appendChild(docLink);\n",
              "      }\n",
              "    </script>\n",
              "  </div>\n",
              "\n",
              "\n",
              "    <div id=\"df-fbb5c028-4931-498d-8441-0ea8a396d21c\">\n",
              "      <button class=\"colab-df-quickchart\" onclick=\"quickchart('df-fbb5c028-4931-498d-8441-0ea8a396d21c')\"\n",
              "                title=\"Suggest charts\"\n",
              "                style=\"display:none;\">\n",
              "\n",
              "<svg xmlns=\"http://www.w3.org/2000/svg\" height=\"24px\"viewBox=\"0 0 24 24\"\n",
              "     width=\"24px\">\n",
              "    <g>\n",
              "        <path d=\"M19 3H5c-1.1 0-2 .9-2 2v14c0 1.1.9 2 2 2h14c1.1 0 2-.9 2-2V5c0-1.1-.9-2-2-2zM9 17H7v-7h2v7zm4 0h-2V7h2v10zm4 0h-2v-4h2v4z\"/>\n",
              "    </g>\n",
              "</svg>\n",
              "      </button>\n",
              "\n",
              "<style>\n",
              "  .colab-df-quickchart {\n",
              "      --bg-color: #E8F0FE;\n",
              "      --fill-color: #1967D2;\n",
              "      --hover-bg-color: #E2EBFA;\n",
              "      --hover-fill-color: #174EA6;\n",
              "      --disabled-fill-color: #AAA;\n",
              "      --disabled-bg-color: #DDD;\n",
              "  }\n",
              "\n",
              "  [theme=dark] .colab-df-quickchart {\n",
              "      --bg-color: #3B4455;\n",
              "      --fill-color: #D2E3FC;\n",
              "      --hover-bg-color: #434B5C;\n",
              "      --hover-fill-color: #FFFFFF;\n",
              "      --disabled-bg-color: #3B4455;\n",
              "      --disabled-fill-color: #666;\n",
              "  }\n",
              "\n",
              "  .colab-df-quickchart {\n",
              "    background-color: var(--bg-color);\n",
              "    border: none;\n",
              "    border-radius: 50%;\n",
              "    cursor: pointer;\n",
              "    display: none;\n",
              "    fill: var(--fill-color);\n",
              "    height: 32px;\n",
              "    padding: 0;\n",
              "    width: 32px;\n",
              "  }\n",
              "\n",
              "  .colab-df-quickchart:hover {\n",
              "    background-color: var(--hover-bg-color);\n",
              "    box-shadow: 0 1px 2px rgba(60, 64, 67, 0.3), 0 1px 3px 1px rgba(60, 64, 67, 0.15);\n",
              "    fill: var(--button-hover-fill-color);\n",
              "  }\n",
              "\n",
              "  .colab-df-quickchart-complete:disabled,\n",
              "  .colab-df-quickchart-complete:disabled:hover {\n",
              "    background-color: var(--disabled-bg-color);\n",
              "    fill: var(--disabled-fill-color);\n",
              "    box-shadow: none;\n",
              "  }\n",
              "\n",
              "  .colab-df-spinner {\n",
              "    border: 2px solid var(--fill-color);\n",
              "    border-color: transparent;\n",
              "    border-bottom-color: var(--fill-color);\n",
              "    animation:\n",
              "      spin 1s steps(1) infinite;\n",
              "  }\n",
              "\n",
              "  @keyframes spin {\n",
              "    0% {\n",
              "      border-color: transparent;\n",
              "      border-bottom-color: var(--fill-color);\n",
              "      border-left-color: var(--fill-color);\n",
              "    }\n",
              "    20% {\n",
              "      border-color: transparent;\n",
              "      border-left-color: var(--fill-color);\n",
              "      border-top-color: var(--fill-color);\n",
              "    }\n",
              "    30% {\n",
              "      border-color: transparent;\n",
              "      border-left-color: var(--fill-color);\n",
              "      border-top-color: var(--fill-color);\n",
              "      border-right-color: var(--fill-color);\n",
              "    }\n",
              "    40% {\n",
              "      border-color: transparent;\n",
              "      border-right-color: var(--fill-color);\n",
              "      border-top-color: var(--fill-color);\n",
              "    }\n",
              "    60% {\n",
              "      border-color: transparent;\n",
              "      border-right-color: var(--fill-color);\n",
              "    }\n",
              "    80% {\n",
              "      border-color: transparent;\n",
              "      border-right-color: var(--fill-color);\n",
              "      border-bottom-color: var(--fill-color);\n",
              "    }\n",
              "    90% {\n",
              "      border-color: transparent;\n",
              "      border-bottom-color: var(--fill-color);\n",
              "    }\n",
              "  }\n",
              "</style>\n",
              "\n",
              "      <script>\n",
              "        async function quickchart(key) {\n",
              "          const quickchartButtonEl =\n",
              "            document.querySelector('#' + key + ' button');\n",
              "          quickchartButtonEl.disabled = true;  // To prevent multiple clicks.\n",
              "          quickchartButtonEl.classList.add('colab-df-spinner');\n",
              "          try {\n",
              "            const charts = await google.colab.kernel.invokeFunction(\n",
              "                'suggestCharts', [key], {});\n",
              "          } catch (error) {\n",
              "            console.error('Error during call to suggestCharts:', error);\n",
              "          }\n",
              "          quickchartButtonEl.classList.remove('colab-df-spinner');\n",
              "          quickchartButtonEl.classList.add('colab-df-quickchart-complete');\n",
              "        }\n",
              "        (() => {\n",
              "          let quickchartButtonEl =\n",
              "            document.querySelector('#df-fbb5c028-4931-498d-8441-0ea8a396d21c button');\n",
              "          quickchartButtonEl.style.display =\n",
              "            google.colab.kernel.accessAllowed ? 'block' : 'none';\n",
              "        })();\n",
              "      </script>\n",
              "    </div>\n",
              "\n",
              "    </div>\n",
              "  </div>\n"
            ],
            "text/plain": [
              "                Channel1_Mean  Channel2_Mean  Channel3_Mean  Channel1_Std  \\\n",
              "02010002_still   4.941406e+06  175808.137454      4549131.0     5574587.0   \n",
              "02010005_still   4.536626e+06  288787.711970      4111437.0     5060115.0   \n",
              "02010006_still   4.238314e+06  144558.688531      3901394.0     4703693.0   \n",
              "02010007_still   4.032361e+06   68078.285809      3949625.0     4240778.0   \n",
              "02010008_still   4.207069e+06  264714.222112      3911394.0     4851149.0   \n",
              "\n",
              "                Channel2_Std  Channel3_Std  Channel1_Min   Channel2_Min  \\\n",
              "02010002_still      1.316725      1.744640  4.972747e+06  246017.171435   \n",
              "02010005_still      0.318195     -1.150037  4.778846e+06  339204.035154   \n",
              "02010006_still      1.062330      0.652841  4.263656e+06  177713.431547   \n",
              "02010007_still      1.132642      0.148677  4.815687e+06   82399.684254   \n",
              "02010008_still      1.034041     -0.209446  4.212772e+06  286620.474663   \n",
              "\n",
              "                Channel3_Min  Channel1_Max  Channel2_Max  Channel3_Max  \\\n",
              "02010002_still     4598102.0     5815826.0      1.418608      1.395810   \n",
              "02010005_still     4281803.0     5403423.0      0.383090     -1.095954   \n",
              "02010006_still     3892685.0     4782049.0      0.914324     -0.026741   \n",
              "02010007_still     4719966.0     5006114.0      0.924343     -0.596255   \n",
              "02010008_still     3910003.0     4928986.0      1.073019     -0.139374   \n",
              "\n",
              "                Channel1_Skew  Channel2_Skew  Channel3_Skew  \\\n",
              "02010002_still   4.772154e+06  191933.620032      4392558.0   \n",
              "02010005_still   4.639432e+06  351301.475674      4131673.0   \n",
              "02010006_still   4.151115e+06  180784.783832      3774294.0   \n",
              "02010007_still   5.100301e+06   28318.502123      5040332.0   \n",
              "02010008_still   4.159028e+06  277847.711284      3864903.0   \n",
              "\n",
              "                Channel1_Kurtosis  Channel2_Kurtosis  Channel3_Kurtosis Label  \n",
              "02010002_still          5414664.0           1.168109           1.022057   MDD  \n",
              "02010005_still          5347978.0           0.423257          -1.015252   MDD  \n",
              "02010006_still          4691641.0           0.748353          -0.052255   MDD  \n",
              "02010007_still          5202104.0           0.166913          -0.786422   MDD  \n",
              "02010008_still          4839297.0           1.064985          -0.206756   MDD  "
            ]
          },
          "metadata": {},
          "output_type": "display_data"
        }
      ],
      "source": [
        "label_mapping = {\n",
        "    \"02010002_still\": \"MDD\", \"02010005_still\": \"MDD\", \"02010006_still\": \"MDD\",\n",
        "    \"02010007_still\": \"MDD\", \"02010008_still\": \"MDD\", \"02010009_still\": \"MDD\",\n",
        "    \"02010010_still\": \"MDD\", \"02010011_still\": \"MDD\", \"02010012_still\": \"MDD\",\n",
        "    \"02010013_still\": \"MDD\", \"02020007_still\": \"HC\", \"02020008_still\": \"HC\",\n",
        "    \"02020010_still\": \"HC\", \"02020011_still\": \"HC\", \"02020014_still\": \"HC\",\n",
        "    \"02020015_still\": \"HC\", \"02020016_still\": \"HC\", \"02020018_still\": \"HC\",\n",
        "    \"02020019_still\": \"HC\", \"02020021_still\": \"HC\"\n",
        "}\n",
        "\n",
        "features_df['Label'] = features_df.index.map(label_mapping)\n",
        "display(features_df.head())"
      ]
    },
    {
      "cell_type": "markdown",
      "metadata": {
        "id": "23f1bcb9"
      },
      "source": [
        "# Task\n",
        "Analyze the provided 20 Excel files, each containing 3 channels of readings, to detect depression using SVM and KNN models. Extract the mean of each channel as features, label the data as MDD or HC based on the provided mapping, and visualize the features in a 3D scatter plot. Split the data into 75% training and 25% testing sets, train SVM and KNN models, and report their accuracy. Use the \"dataset.xlsx\" file for feature extraction. The mapping is as follows: 02010002 MDD, 02010005 MDD, 02010006 MDD, 02010007 MDD, 02010008 MDD, 02010009 MDD, 02010010 MDD, 02010011 MDD, 02010012 MDD, 02010013 MDD, 02020007 HC, 02020008 HC, 02020010 HC, 02020011 HC, 02020014 HC, 02020015 HC, 02020016 HC, 02020018 HC, 02020019 HC, 02020021 HC."
      ]
    },
    {
      "cell_type": "markdown",
      "metadata": {
        "id": "b7382e62"
      },
      "source": [
        "## Load data\n",
        "\n",
        "### Subtask:\n",
        "Load the data from all the specified Excel files into pandas DataFrames.\n"
      ]
    },
    {
      "cell_type": "markdown",
      "metadata": {
        "id": "84fabacc"
      },
      "source": [
        "**Reasoning**:\n",
        "Initialize an empty dictionary and a list of filenames to store the loaded data.\n",
        "\n"
      ]
    },
    {
      "cell_type": "code",
      "execution_count": null,
      "metadata": {
        "id": "054985c9"
      },
      "outputs": [],
      "source": [
        "import pandas as pd\n",
        "import os\n",
        "\n",
        "dfs = {}\n",
        "filenames = [\n",
        "    \"02010002_still.xlsx\", \"02010005_still.xlsx\", \"02010006_still.xlsx\",\n",
        "    \"02010007_still.xlsx\", \"02010008_still.xlsx\", \"02010009_still.xlsx\",\n",
        "    \"02010010_still.xlsx\", \"02010011_still.xlsx\", \"02010012_still.xlsx\",\n",
        "    \"02010013_still.xlsx\", \"02020007_still.xlsx\", \"02020008_still.xlsx\",\n",
        "    \"02020010_still.xlsx\", \"02020011_still.xlsx\", \"02020014_still.xlsx\",\n",
        "    \"02020015_still.xlsx\", \"02020016_still.xlsx\", \"02020018_still.xlsx\",\n",
        "    \"02020019_still.xlsx\", \"02020021_still.xlsx\"\n",
        "]"
      ]
    },
    {
      "cell_type": "markdown",
      "metadata": {
        "id": "e17a317e"
      },
      "source": [
        "**Reasoning**:\n",
        "Iterate through the list of filenames, load each Excel file into a DataFrame, and store it in the dictionary `dfs`.\n",
        "\n"
      ]
    },
    {
      "cell_type": "code",
      "execution_count": null,
      "metadata": {
        "colab": {
          "base_uri": "https://localhost:8080/"
        },
        "id": "fdd5f342",
        "outputId": "a6239d2d-2ef2-48ec-979f-a2f6851ca372"
      },
      "outputs": [
        {
          "name": "stdout",
          "output_type": "stream",
          "text": [
            "dict_keys(['02010002_still', '02010005_still', '02010006_still', '02010007_still', '02010008_still', '02010009_still', '02010010_still', '02010011_still', '02010012_still', '02010013_still', '02020007_still', '02020008_still', '02020010_still', '02020011_still', '02020014_still', '02020015_still', '02020016_still', '02020018_still', '02020019_still', '02020021_still'])\n"
          ]
        }
      ],
      "source": [
        "for filename in filenames:\n",
        "    # Assuming the files are in the current directory\n",
        "    file_path = filename\n",
        "    try:\n",
        "        df = pd.read_excel(file_path)\n",
        "        dfs[os.path.splitext(filename)[0]] = df\n",
        "    except FileNotFoundError:\n",
        "        print(f\"File not found: {filename}\")\n",
        "\n",
        "# Display the keys of the dictionary to confirm loading\n",
        "print(dfs.keys())"
      ]
    },
    {
      "cell_type": "markdown",
      "metadata": {
        "id": "3cf6b6d9"
      },
      "source": [
        "## Feature extraction\n",
        "\n",
        "### Subtask:\n",
        "Extract the mean of the three channels for each file as features.\n"
      ]
    },
    {
      "cell_type": "markdown",
      "metadata": {
        "id": "a83a5a93"
      },
      "source": [
        "**Reasoning**:\n",
        "Iterate through the dictionary of dataframes, calculate the mean of each column for each dataframe, and store these means in a list. Finally, convert the list of means into a pandas DataFrame and display its head.\n",
        "\n"
      ]
    },
    {
      "cell_type": "code",
      "execution_count": null,
      "metadata": {
        "colab": {
          "base_uri": "https://localhost:8080/",
          "height": 226
        },
        "id": "d2696b28",
        "outputId": "cdbe93a8-4d5c-4245-837c-b573f3442258"
      },
      "outputs": [
        {
          "data": {
            "application/vnd.google.colaboratory.intrinsic+json": {
              "summary": "{\n  \"name\": \"display(features_df\",\n  \"rows\": 5,\n  \"fields\": [\n    {\n      \"column\": \"Channel1_Mean\",\n      \"properties\": {\n        \"dtype\": \"number\",\n        \"std\": 357043.12068680883,\n        \"min\": 4032361.378497146,\n        \"max\": 4941406.399991283,\n        \"num_unique_values\": 5,\n        \"samples\": [\n          4536625.939729898,\n          4207069.216716857,\n          4238314.154073249\n        ],\n        \"semantic_type\": \"\",\n        \"description\": \"\"\n      }\n    },\n    {\n      \"column\": \"Channel2_Mean\",\n      \"properties\": {\n        \"dtype\": \"number\",\n        \"std\": 90082.57760207636,\n        \"min\": 68078.28580924073,\n        \"max\": 288787.71196964267,\n        \"num_unique_values\": 5,\n        \"samples\": [\n          288787.71196964267,\n          264714.2221122639,\n          144558.68853135174\n        ],\n        \"semantic_type\": \"\",\n        \"description\": \"\"\n      }\n    },\n    {\n      \"column\": \"Channel3_Mean\",\n      \"properties\": {\n        \"dtype\": \"number\",\n        \"std\": 273080.70325217047,\n        \"min\": 3901394.0,\n        \"max\": 4549131.0,\n        \"num_unique_values\": 5,\n        \"samples\": [\n          4111437.0,\n          3911394.0,\n          3901394.0\n        ],\n        \"semantic_type\": \"\",\n        \"description\": \"\"\n      }\n    },\n    {\n      \"column\": \"Channel1_Std\",\n      \"properties\": {\n        \"dtype\": \"number\",\n        \"std\": 488679.3255272828,\n        \"min\": 4240778.0,\n        \"max\": 5574587.0,\n        \"num_unique_values\": 5,\n        \"samples\": [\n          5060115.0,\n          4851149.0,\n          4703693.0\n        ],\n        \"semantic_type\": \"\",\n        \"description\": \"\"\n      }\n    },\n    {\n      \"column\": \"Channel2_Std\",\n      \"properties\": {\n        \"dtype\": \"number\",\n        \"std\": 0.3821347288006797,\n        \"min\": 0.3181950424062814,\n        \"max\": 1.3167254029461724,\n        \"num_unique_values\": 5,\n        \"samples\": [\n          0.3181950424062814,\n          1.034041260469712,\n          1.062329504005162\n        ],\n        \"semantic_type\": \"\",\n        \"description\": \"\"\n      }\n    },\n    {\n      \"column\": \"Channel3_Std\",\n      \"properties\": {\n        \"dtype\": \"number\",\n        \"std\": 1.0696830720334656,\n        \"min\": -1.1500365841229783,\n        \"max\": 1.7446401290986877,\n        \"num_unique_values\": 5,\n        \"samples\": [\n          -1.1500365841229783,\n          -0.20944594732227184,\n          0.6528411316343177\n        ],\n        \"semantic_type\": \"\",\n        \"description\": \"\"\n      }\n    },\n    {\n      \"column\": \"Channel1_Min\",\n      \"properties\": {\n        \"dtype\": \"number\",\n        \"std\": 346459.8623882252,\n        \"min\": 4212771.532503706,\n        \"max\": 4972746.659031245,\n        \"num_unique_values\": 5,\n        \"samples\": [\n          4778846.192831038,\n          4212771.532503706,\n          4263656.252846912\n        ],\n        \"semantic_type\": \"\",\n        \"description\": \"\"\n      }\n    },\n    {\n      \"column\": \"Channel2_Min\",\n      \"properties\": {\n        \"dtype\": \"number\",\n        \"std\": 99803.00822729092,\n        \"min\": 82399.68425421847,\n        \"max\": 339204.0351543286,\n        \"num_unique_values\": 5,\n        \"samples\": [\n          339204.0351543286,\n          286620.47466347466,\n          177713.43154694533\n        ],\n        \"semantic_type\": \"\",\n        \"description\": \"\"\n      }\n    },\n    {\n      \"column\": \"Channel3_Min\",\n      \"properties\": {\n        \"dtype\": \"number\",\n        \"std\": 381336.9880783924,\n        \"min\": 3892685.0,\n        \"max\": 4719966.0,\n        \"num_unique_values\": 5,\n        \"samples\": [\n          4281803.0,\n          3910003.0,\n          3892685.0\n        ],\n        \"semantic_type\": \"\",\n        \"description\": \"\"\n      }\n    },\n    {\n      \"column\": \"Channel1_Max\",\n      \"properties\": {\n        \"dtype\": \"number\",\n        \"std\": 419981.2328893995,\n        \"min\": 4782049.0,\n        \"max\": 5815826.0,\n        \"num_unique_values\": 5,\n        \"samples\": [\n          5403423.0,\n          4928986.0,\n          4782049.0\n        ],\n        \"semantic_type\": \"\",\n        \"description\": \"\"\n      }\n    },\n    {\n      \"column\": \"Channel2_Max\",\n      \"properties\": {\n        \"dtype\": \"number\",\n        \"std\": 0.3734224306488957,\n        \"min\": 0.3830900669618408,\n        \"max\": 1.4186083279183397,\n        \"num_unique_values\": 5,\n        \"samples\": [\n          0.3830900669618408,\n          1.07301905546146,\n          0.9143236638088792\n        ],\n        \"semantic_type\": \"\",\n        \"description\": \"\"\n      }\n    },\n    {\n      \"column\": \"Channel3_Max\",\n      \"properties\": {\n        \"dtype\": \"number\",\n        \"std\": 0.9330429225068533,\n        \"min\": -1.0959544525978262,\n        \"max\": 1.3958095318552237,\n        \"num_unique_values\": 5,\n        \"samples\": [\n          -1.0959544525978262,\n          -0.1393742476706068,\n          -0.02674131617398423\n        ],\n        \"semantic_type\": \"\",\n        \"description\": \"\"\n      }\n    },\n    {\n      \"column\": \"Channel1_Skew\",\n      \"properties\": {\n        \"dtype\": \"number\",\n        \"std\": 409607.3232629474,\n        \"min\": 4151114.8096176363,\n        \"max\": 5100301.417138507,\n        \"num_unique_values\": 5,\n        \"samples\": [\n          4639431.625363441,\n          4159028.289063279,\n          4151114.8096176363\n        ],\n        \"semantic_type\": \"\",\n        \"description\": \"\"\n      }\n    },\n    {\n      \"column\": \"Channel2_Skew\",\n      \"properties\": {\n        \"dtype\": \"number\",\n        \"std\": 121118.73346343855,\n        \"min\": 28318.502123391354,\n        \"max\": 351301.47567430296,\n        \"num_unique_values\": 5,\n        \"samples\": [\n          351301.47567430296,\n          277847.7112835702,\n          180784.7838324533\n        ],\n        \"semantic_type\": \"\",\n        \"description\": \"\"\n      }\n    },\n    {\n      \"column\": \"Channel3_Skew\",\n      \"properties\": {\n        \"dtype\": \"number\",\n        \"std\": 508211.81677574164,\n        \"min\": 3774294.0,\n        \"max\": 5040332.0,\n        \"num_unique_values\": 5,\n        \"samples\": [\n          4131673.0,\n          3864903.0,\n          3774294.0\n        ],\n        \"semantic_type\": \"\",\n        \"description\": \"\"\n      }\n    },\n    {\n      \"column\": \"Channel1_Kurtosis\",\n      \"properties\": {\n        \"dtype\": \"number\",\n        \"std\": 318453.7445669308,\n        \"min\": 4691641.0,\n        \"max\": 5414664.0,\n        \"num_unique_values\": 5,\n        \"samples\": [\n          5347978.0,\n          4839297.0,\n          4691641.0\n        ],\n        \"semantic_type\": \"\",\n        \"description\": \"\"\n      }\n    },\n    {\n      \"column\": \"Channel2_Kurtosis\",\n      \"properties\": {\n        \"dtype\": \"number\",\n        \"std\": 0.42261691983751937,\n        \"min\": 0.1669130768123391,\n        \"max\": 1.168108532934206,\n        \"num_unique_values\": 5,\n        \"samples\": [\n          0.4232565746172011,\n          1.064984644052213,\n          0.7483532399758488\n        ],\n        \"semantic_type\": \"\",\n        \"description\": \"\"\n      }\n    },\n    {\n      \"column\": \"Channel3_Kurtosis\",\n      \"properties\": {\n        \"dtype\": \"number\",\n        \"std\": 0.7942801711767281,\n        \"min\": -1.0152515445724386,\n        \"max\": 1.022056622152813,\n        \"num_unique_values\": 5,\n        \"samples\": [\n          -1.0152515445724386,\n          -0.2067560843062135,\n          -0.052255349271516316\n        ],\n        \"semantic_type\": \"\",\n        \"description\": \"\"\n      }\n    }\n  ]\n}",
              "type": "dataframe"
            },
            "text/html": [
              "\n",
              "  <div id=\"df-cd443946-eb19-44cd-ad03-c5ddc1997c42\" class=\"colab-df-container\">\n",
              "    <div>\n",
              "<style scoped>\n",
              "    .dataframe tbody tr th:only-of-type {\n",
              "        vertical-align: middle;\n",
              "    }\n",
              "\n",
              "    .dataframe tbody tr th {\n",
              "        vertical-align: top;\n",
              "    }\n",
              "\n",
              "    .dataframe thead th {\n",
              "        text-align: right;\n",
              "    }\n",
              "</style>\n",
              "<table border=\"1\" class=\"dataframe\">\n",
              "  <thead>\n",
              "    <tr style=\"text-align: right;\">\n",
              "      <th></th>\n",
              "      <th>Channel1_Mean</th>\n",
              "      <th>Channel2_Mean</th>\n",
              "      <th>Channel3_Mean</th>\n",
              "      <th>Channel1_Std</th>\n",
              "      <th>Channel2_Std</th>\n",
              "      <th>Channel3_Std</th>\n",
              "      <th>Channel1_Min</th>\n",
              "      <th>Channel2_Min</th>\n",
              "      <th>Channel3_Min</th>\n",
              "      <th>Channel1_Max</th>\n",
              "      <th>Channel2_Max</th>\n",
              "      <th>Channel3_Max</th>\n",
              "      <th>Channel1_Skew</th>\n",
              "      <th>Channel2_Skew</th>\n",
              "      <th>Channel3_Skew</th>\n",
              "      <th>Channel1_Kurtosis</th>\n",
              "      <th>Channel2_Kurtosis</th>\n",
              "      <th>Channel3_Kurtosis</th>\n",
              "    </tr>\n",
              "  </thead>\n",
              "  <tbody>\n",
              "    <tr>\n",
              "      <th>02010002_still</th>\n",
              "      <td>4.941406e+06</td>\n",
              "      <td>175808.137454</td>\n",
              "      <td>4549131.0</td>\n",
              "      <td>5574587.0</td>\n",
              "      <td>1.316725</td>\n",
              "      <td>1.744640</td>\n",
              "      <td>4.972747e+06</td>\n",
              "      <td>246017.171435</td>\n",
              "      <td>4598102.0</td>\n",
              "      <td>5815826.0</td>\n",
              "      <td>1.418608</td>\n",
              "      <td>1.395810</td>\n",
              "      <td>4.772154e+06</td>\n",
              "      <td>191933.620032</td>\n",
              "      <td>4392558.0</td>\n",
              "      <td>5414664.0</td>\n",
              "      <td>1.168109</td>\n",
              "      <td>1.022057</td>\n",
              "    </tr>\n",
              "    <tr>\n",
              "      <th>02010005_still</th>\n",
              "      <td>4.536626e+06</td>\n",
              "      <td>288787.711970</td>\n",
              "      <td>4111437.0</td>\n",
              "      <td>5060115.0</td>\n",
              "      <td>0.318195</td>\n",
              "      <td>-1.150037</td>\n",
              "      <td>4.778846e+06</td>\n",
              "      <td>339204.035154</td>\n",
              "      <td>4281803.0</td>\n",
              "      <td>5403423.0</td>\n",
              "      <td>0.383090</td>\n",
              "      <td>-1.095954</td>\n",
              "      <td>4.639432e+06</td>\n",
              "      <td>351301.475674</td>\n",
              "      <td>4131673.0</td>\n",
              "      <td>5347978.0</td>\n",
              "      <td>0.423257</td>\n",
              "      <td>-1.015252</td>\n",
              "    </tr>\n",
              "    <tr>\n",
              "      <th>02010006_still</th>\n",
              "      <td>4.238314e+06</td>\n",
              "      <td>144558.688531</td>\n",
              "      <td>3901394.0</td>\n",
              "      <td>4703693.0</td>\n",
              "      <td>1.062330</td>\n",
              "      <td>0.652841</td>\n",
              "      <td>4.263656e+06</td>\n",
              "      <td>177713.431547</td>\n",
              "      <td>3892685.0</td>\n",
              "      <td>4782049.0</td>\n",
              "      <td>0.914324</td>\n",
              "      <td>-0.026741</td>\n",
              "      <td>4.151115e+06</td>\n",
              "      <td>180784.783832</td>\n",
              "      <td>3774294.0</td>\n",
              "      <td>4691641.0</td>\n",
              "      <td>0.748353</td>\n",
              "      <td>-0.052255</td>\n",
              "    </tr>\n",
              "    <tr>\n",
              "      <th>02010007_still</th>\n",
              "      <td>4.032361e+06</td>\n",
              "      <td>68078.285809</td>\n",
              "      <td>3949625.0</td>\n",
              "      <td>4240778.0</td>\n",
              "      <td>1.132642</td>\n",
              "      <td>0.148677</td>\n",
              "      <td>4.815687e+06</td>\n",
              "      <td>82399.684254</td>\n",
              "      <td>4719966.0</td>\n",
              "      <td>5006114.0</td>\n",
              "      <td>0.924343</td>\n",
              "      <td>-0.596255</td>\n",
              "      <td>5.100301e+06</td>\n",
              "      <td>28318.502123</td>\n",
              "      <td>5040332.0</td>\n",
              "      <td>5202104.0</td>\n",
              "      <td>0.166913</td>\n",
              "      <td>-0.786422</td>\n",
              "    </tr>\n",
              "    <tr>\n",
              "      <th>02010008_still</th>\n",
              "      <td>4.207069e+06</td>\n",
              "      <td>264714.222112</td>\n",
              "      <td>3911394.0</td>\n",
              "      <td>4851149.0</td>\n",
              "      <td>1.034041</td>\n",
              "      <td>-0.209446</td>\n",
              "      <td>4.212772e+06</td>\n",
              "      <td>286620.474663</td>\n",
              "      <td>3910003.0</td>\n",
              "      <td>4928986.0</td>\n",
              "      <td>1.073019</td>\n",
              "      <td>-0.139374</td>\n",
              "      <td>4.159028e+06</td>\n",
              "      <td>277847.711284</td>\n",
              "      <td>3864903.0</td>\n",
              "      <td>4839297.0</td>\n",
              "      <td>1.064985</td>\n",
              "      <td>-0.206756</td>\n",
              "    </tr>\n",
              "  </tbody>\n",
              "</table>\n",
              "</div>\n",
              "    <div class=\"colab-df-buttons\">\n",
              "\n",
              "  <div class=\"colab-df-container\">\n",
              "    <button class=\"colab-df-convert\" onclick=\"convertToInteractive('df-cd443946-eb19-44cd-ad03-c5ddc1997c42')\"\n",
              "            title=\"Convert this dataframe to an interactive table.\"\n",
              "            style=\"display:none;\">\n",
              "\n",
              "  <svg xmlns=\"http://www.w3.org/2000/svg\" height=\"24px\" viewBox=\"0 -960 960 960\">\n",
              "    <path d=\"M120-120v-720h720v720H120Zm60-500h600v-160H180v160Zm220 220h160v-160H400v160Zm0 220h160v-160H400v160ZM180-400h160v-160H180v160Zm440 0h160v-160H620v160ZM180-180h160v-160H180v160Zm440 0h160v-160H620v160Z\"/>\n",
              "  </svg>\n",
              "    </button>\n",
              "\n",
              "  <style>\n",
              "    .colab-df-container {\n",
              "      display:flex;\n",
              "      gap: 12px;\n",
              "    }\n",
              "\n",
              "    .colab-df-convert {\n",
              "      background-color: #E8F0FE;\n",
              "      border: none;\n",
              "      border-radius: 50%;\n",
              "      cursor: pointer;\n",
              "      display: none;\n",
              "      fill: #1967D2;\n",
              "      height: 32px;\n",
              "      padding: 0 0 0 0;\n",
              "      width: 32px;\n",
              "    }\n",
              "\n",
              "    .colab-df-convert:hover {\n",
              "      background-color: #E2EBFA;\n",
              "      box-shadow: 0px 1px 2px rgba(60, 64, 67, 0.3), 0px 1px 3px 1px rgba(60, 64, 67, 0.15);\n",
              "      fill: #174EA6;\n",
              "    }\n",
              "\n",
              "    .colab-df-buttons div {\n",
              "      margin-bottom: 4px;\n",
              "    }\n",
              "\n",
              "    [theme=dark] .colab-df-convert {\n",
              "      background-color: #3B4455;\n",
              "      fill: #D2E3FC;\n",
              "    }\n",
              "\n",
              "    [theme=dark] .colab-df-convert:hover {\n",
              "      background-color: #434B5C;\n",
              "      box-shadow: 0px 1px 3px 1px rgba(0, 0, 0, 0.15);\n",
              "      filter: drop-shadow(0px 1px 2px rgba(0, 0, 0, 0.3));\n",
              "      fill: #FFFFFF;\n",
              "    }\n",
              "  </style>\n",
              "\n",
              "    <script>\n",
              "      const buttonEl =\n",
              "        document.querySelector('#df-cd443946-eb19-44cd-ad03-c5ddc1997c42 button.colab-df-convert');\n",
              "      buttonEl.style.display =\n",
              "        google.colab.kernel.accessAllowed ? 'block' : 'none';\n",
              "\n",
              "      async function convertToInteractive(key) {\n",
              "        const element = document.querySelector('#df-cd443946-eb19-44cd-ad03-c5ddc1997c42');\n",
              "        const dataTable =\n",
              "          await google.colab.kernel.invokeFunction('convertToInteractive',\n",
              "                                                    [key], {});\n",
              "        if (!dataTable) return;\n",
              "\n",
              "        const docLinkHtml = 'Like what you see? Visit the ' +\n",
              "          '<a target=\"_blank\" href=https://colab.research.google.com/notebooks/data_table.ipynb>data table notebook</a>'\n",
              "          + ' to learn more about interactive tables.';\n",
              "        element.innerHTML = '';\n",
              "        dataTable['output_type'] = 'display_data';\n",
              "        await google.colab.output.renderOutput(dataTable, element);\n",
              "        const docLink = document.createElement('div');\n",
              "        docLink.innerHTML = docLinkHtml;\n",
              "        element.appendChild(docLink);\n",
              "      }\n",
              "    </script>\n",
              "  </div>\n",
              "\n",
              "\n",
              "    <div id=\"df-64d75723-1494-41d0-afc6-ccb85db6f354\">\n",
              "      <button class=\"colab-df-quickchart\" onclick=\"quickchart('df-64d75723-1494-41d0-afc6-ccb85db6f354')\"\n",
              "                title=\"Suggest charts\"\n",
              "                style=\"display:none;\">\n",
              "\n",
              "<svg xmlns=\"http://www.w3.org/2000/svg\" height=\"24px\"viewBox=\"0 0 24 24\"\n",
              "     width=\"24px\">\n",
              "    <g>\n",
              "        <path d=\"M19 3H5c-1.1 0-2 .9-2 2v14c0 1.1.9 2 2 2h14c1.1 0 2-.9 2-2V5c0-1.1-.9-2-2-2zM9 17H7v-7h2v7zm4 0h-2V7h2v10zm4 0h-2v-4h2v4z\"/>\n",
              "    </g>\n",
              "</svg>\n",
              "      </button>\n",
              "\n",
              "<style>\n",
              "  .colab-df-quickchart {\n",
              "      --bg-color: #E8F0FE;\n",
              "      --fill-color: #1967D2;\n",
              "      --hover-bg-color: #E2EBFA;\n",
              "      --hover-fill-color: #174EA6;\n",
              "      --disabled-fill-color: #AAA;\n",
              "      --disabled-bg-color: #DDD;\n",
              "  }\n",
              "\n",
              "  [theme=dark] .colab-df-quickchart {\n",
              "      --bg-color: #3B4455;\n",
              "      --fill-color: #D2E3FC;\n",
              "      --hover-bg-color: #434B5C;\n",
              "      --hover-fill-color: #FFFFFF;\n",
              "      --disabled-bg-color: #3B4455;\n",
              "      --disabled-fill-color: #666;\n",
              "  }\n",
              "\n",
              "  .colab-df-quickchart {\n",
              "    background-color: var(--bg-color);\n",
              "    border: none;\n",
              "    border-radius: 50%;\n",
              "    cursor: pointer;\n",
              "    display: none;\n",
              "    fill: var(--fill-color);\n",
              "    height: 32px;\n",
              "    padding: 0;\n",
              "    width: 32px;\n",
              "  }\n",
              "\n",
              "  .colab-df-quickchart:hover {\n",
              "    background-color: var(--hover-bg-color);\n",
              "    box-shadow: 0 1px 2px rgba(60, 64, 67, 0.3), 0 1px 3px 1px rgba(60, 64, 67, 0.15);\n",
              "    fill: var(--button-hover-fill-color);\n",
              "  }\n",
              "\n",
              "  .colab-df-quickchart-complete:disabled,\n",
              "  .colab-df-quickchart-complete:disabled:hover {\n",
              "    background-color: var(--disabled-bg-color);\n",
              "    fill: var(--disabled-fill-color);\n",
              "    box-shadow: none;\n",
              "  }\n",
              "\n",
              "  .colab-df-spinner {\n",
              "    border: 2px solid var(--fill-color);\n",
              "    border-color: transparent;\n",
              "    border-bottom-color: var(--fill-color);\n",
              "    animation:\n",
              "      spin 1s steps(1) infinite;\n",
              "  }\n",
              "\n",
              "  @keyframes spin {\n",
              "    0% {\n",
              "      border-color: transparent;\n",
              "      border-bottom-color: var(--fill-color);\n",
              "      border-left-color: var(--fill-color);\n",
              "    }\n",
              "    20% {\n",
              "      border-color: transparent;\n",
              "      border-left-color: var(--fill-color);\n",
              "      border-top-color: var(--fill-color);\n",
              "    }\n",
              "    30% {\n",
              "      border-color: transparent;\n",
              "      border-left-color: var(--fill-color);\n",
              "      border-top-color: var(--fill-color);\n",
              "      border-right-color: var(--fill-color);\n",
              "    }\n",
              "    40% {\n",
              "      border-color: transparent;\n",
              "      border-right-color: var(--fill-color);\n",
              "      border-top-color: var(--fill-color);\n",
              "    }\n",
              "    60% {\n",
              "      border-color: transparent;\n",
              "      border-right-color: var(--fill-color);\n",
              "    }\n",
              "    80% {\n",
              "      border-color: transparent;\n",
              "      border-right-color: var(--fill-color);\n",
              "      border-bottom-color: var(--fill-color);\n",
              "    }\n",
              "    90% {\n",
              "      border-color: transparent;\n",
              "      border-bottom-color: var(--fill-color);\n",
              "    }\n",
              "  }\n",
              "</style>\n",
              "\n",
              "      <script>\n",
              "        async function quickchart(key) {\n",
              "          const quickchartButtonEl =\n",
              "            document.querySelector('#' + key + ' button');\n",
              "          quickchartButtonEl.disabled = true;  // To prevent multiple clicks.\n",
              "          quickchartButtonEl.classList.add('colab-df-spinner');\n",
              "          try {\n",
              "            const charts = await google.colab.kernel.invokeFunction(\n",
              "                'suggestCharts', [key], {});\n",
              "          } catch (error) {\n",
              "            console.error('Error during call to suggestCharts:', error);\n",
              "          }\n",
              "          quickchartButtonEl.classList.remove('colab-df-spinner');\n",
              "          quickchartButtonEl.classList.add('colab-df-quickchart-complete');\n",
              "        }\n",
              "        (() => {\n",
              "          let quickchartButtonEl =\n",
              "            document.querySelector('#df-64d75723-1494-41d0-afc6-ccb85db6f354 button');\n",
              "          quickchartButtonEl.style.display =\n",
              "            google.colab.kernel.accessAllowed ? 'block' : 'none';\n",
              "        })();\n",
              "      </script>\n",
              "    </div>\n",
              "\n",
              "    </div>\n",
              "  </div>\n"
            ],
            "text/plain": [
              "                Channel1_Mean  Channel2_Mean  Channel3_Mean  Channel1_Std  \\\n",
              "02010002_still   4.941406e+06  175808.137454      4549131.0     5574587.0   \n",
              "02010005_still   4.536626e+06  288787.711970      4111437.0     5060115.0   \n",
              "02010006_still   4.238314e+06  144558.688531      3901394.0     4703693.0   \n",
              "02010007_still   4.032361e+06   68078.285809      3949625.0     4240778.0   \n",
              "02010008_still   4.207069e+06  264714.222112      3911394.0     4851149.0   \n",
              "\n",
              "                Channel2_Std  Channel3_Std  Channel1_Min   Channel2_Min  \\\n",
              "02010002_still      1.316725      1.744640  4.972747e+06  246017.171435   \n",
              "02010005_still      0.318195     -1.150037  4.778846e+06  339204.035154   \n",
              "02010006_still      1.062330      0.652841  4.263656e+06  177713.431547   \n",
              "02010007_still      1.132642      0.148677  4.815687e+06   82399.684254   \n",
              "02010008_still      1.034041     -0.209446  4.212772e+06  286620.474663   \n",
              "\n",
              "                Channel3_Min  Channel1_Max  Channel2_Max  Channel3_Max  \\\n",
              "02010002_still     4598102.0     5815826.0      1.418608      1.395810   \n",
              "02010005_still     4281803.0     5403423.0      0.383090     -1.095954   \n",
              "02010006_still     3892685.0     4782049.0      0.914324     -0.026741   \n",
              "02010007_still     4719966.0     5006114.0      0.924343     -0.596255   \n",
              "02010008_still     3910003.0     4928986.0      1.073019     -0.139374   \n",
              "\n",
              "                Channel1_Skew  Channel2_Skew  Channel3_Skew  \\\n",
              "02010002_still   4.772154e+06  191933.620032      4392558.0   \n",
              "02010005_still   4.639432e+06  351301.475674      4131673.0   \n",
              "02010006_still   4.151115e+06  180784.783832      3774294.0   \n",
              "02010007_still   5.100301e+06   28318.502123      5040332.0   \n",
              "02010008_still   4.159028e+06  277847.711284      3864903.0   \n",
              "\n",
              "                Channel1_Kurtosis  Channel2_Kurtosis  Channel3_Kurtosis  \n",
              "02010002_still          5414664.0           1.168109           1.022057  \n",
              "02010005_still          5347978.0           0.423257          -1.015252  \n",
              "02010006_still          4691641.0           0.748353          -0.052255  \n",
              "02010007_still          5202104.0           0.166913          -0.786422  \n",
              "02010008_still          4839297.0           1.064985          -0.206756  "
            ]
          },
          "metadata": {},
          "output_type": "display_data"
        }
      ],
      "source": [
        "features = []\n",
        "for filename, df in dfs.items():\n",
        "    # Calculate mean, standard deviation, min, max, skewness, and kurtosis for each channel\n",
        "    channel_features = df.agg(['mean', 'std', 'min', 'max', 'skew', 'kurtosis']).unstack().tolist()\n",
        "    features.append(channel_features)\n",
        "\n",
        "# Create column names for the new features\n",
        "feature_names = []\n",
        "for stat in ['Mean', 'Std', 'Min', 'Max', 'Skew', 'Kurtosis']:\n",
        "    for i in range(1, df.shape[1] + 1):\n",
        "        feature_names.append(f'Channel{i}_{stat}')\n",
        "\n",
        "features_df = pd.DataFrame(features, index=dfs.keys(), columns=feature_names)\n",
        "display(features_df.head())"
      ]
    },
    {
      "cell_type": "markdown",
      "metadata": {
        "id": "32974ece"
      },
      "source": [
        "## Labeling\n",
        "\n",
        "### Subtask:\n",
        "Label the extracted features based on whether they correspond to MDD or HC subjects, using the provided mapping.\n"
      ]
    },
    {
      "cell_type": "markdown",
      "metadata": {
        "id": "c321a187"
      },
      "source": [
        "**Reasoning**:\n",
        "Create a mapping of filenames to labels and add a 'Label' column to the features_df DataFrame based on this mapping.\n",
        "\n"
      ]
    },
    {
      "cell_type": "code",
      "execution_count": null,
      "metadata": {
        "colab": {
          "base_uri": "https://localhost:8080/",
          "height": 206
        },
        "id": "54bd253d",
        "outputId": "dc111437-7f6e-4640-dc22-00575b9e2539"
      },
      "outputs": [
        {
          "data": {
            "application/vnd.google.colaboratory.intrinsic+json": {
              "summary": "{\n  \"name\": \"display(features_df\",\n  \"rows\": 5,\n  \"fields\": [\n    {\n      \"column\": \"Channel1_Mean\",\n      \"properties\": {\n        \"dtype\": \"number\",\n        \"std\": 357043.12068680883,\n        \"min\": 4032361.378497146,\n        \"max\": 4941406.399991283,\n        \"num_unique_values\": 5,\n        \"samples\": [\n          4536625.939729898,\n          4207069.216716857,\n          4238314.154073249\n        ],\n        \"semantic_type\": \"\",\n        \"description\": \"\"\n      }\n    },\n    {\n      \"column\": \"Channel2_Mean\",\n      \"properties\": {\n        \"dtype\": \"number\",\n        \"std\": 346459.8623882252,\n        \"min\": 4212771.532503706,\n        \"max\": 4972746.659031245,\n        \"num_unique_values\": 5,\n        \"samples\": [\n          4778846.192831038,\n          4212771.532503706,\n          4263656.252846912\n        ],\n        \"semantic_type\": \"\",\n        \"description\": \"\"\n      }\n    },\n    {\n      \"column\": \"Channel3_Mean\",\n      \"properties\": {\n        \"dtype\": \"number\",\n        \"std\": 409607.3232629474,\n        \"min\": 4151114.8096176363,\n        \"max\": 5100301.417138507,\n        \"num_unique_values\": 5,\n        \"samples\": [\n          4639431.625363441,\n          4159028.289063279,\n          4151114.8096176363\n        ],\n        \"semantic_type\": \"\",\n        \"description\": \"\"\n      }\n    },\n    {\n      \"column\": \"Label\",\n      \"properties\": {\n        \"dtype\": \"category\",\n        \"num_unique_values\": 1,\n        \"samples\": [\n          \"MDD\"\n        ],\n        \"semantic_type\": \"\",\n        \"description\": \"\"\n      }\n    }\n  ]\n}",
              "type": "dataframe"
            },
            "text/html": [
              "\n",
              "  <div id=\"df-804c7a22-2c8f-467e-956c-e559dcad953f\" class=\"colab-df-container\">\n",
              "    <div>\n",
              "<style scoped>\n",
              "    .dataframe tbody tr th:only-of-type {\n",
              "        vertical-align: middle;\n",
              "    }\n",
              "\n",
              "    .dataframe tbody tr th {\n",
              "        vertical-align: top;\n",
              "    }\n",
              "\n",
              "    .dataframe thead th {\n",
              "        text-align: right;\n",
              "    }\n",
              "</style>\n",
              "<table border=\"1\" class=\"dataframe\">\n",
              "  <thead>\n",
              "    <tr style=\"text-align: right;\">\n",
              "      <th></th>\n",
              "      <th>Channel1_Mean</th>\n",
              "      <th>Channel2_Mean</th>\n",
              "      <th>Channel3_Mean</th>\n",
              "      <th>Label</th>\n",
              "    </tr>\n",
              "  </thead>\n",
              "  <tbody>\n",
              "    <tr>\n",
              "      <th>02010002_still</th>\n",
              "      <td>4.941406e+06</td>\n",
              "      <td>4.972747e+06</td>\n",
              "      <td>4.772154e+06</td>\n",
              "      <td>MDD</td>\n",
              "    </tr>\n",
              "    <tr>\n",
              "      <th>02010005_still</th>\n",
              "      <td>4.536626e+06</td>\n",
              "      <td>4.778846e+06</td>\n",
              "      <td>4.639432e+06</td>\n",
              "      <td>MDD</td>\n",
              "    </tr>\n",
              "    <tr>\n",
              "      <th>02010006_still</th>\n",
              "      <td>4.238314e+06</td>\n",
              "      <td>4.263656e+06</td>\n",
              "      <td>4.151115e+06</td>\n",
              "      <td>MDD</td>\n",
              "    </tr>\n",
              "    <tr>\n",
              "      <th>02010007_still</th>\n",
              "      <td>4.032361e+06</td>\n",
              "      <td>4.815687e+06</td>\n",
              "      <td>5.100301e+06</td>\n",
              "      <td>MDD</td>\n",
              "    </tr>\n",
              "    <tr>\n",
              "      <th>02010008_still</th>\n",
              "      <td>4.207069e+06</td>\n",
              "      <td>4.212772e+06</td>\n",
              "      <td>4.159028e+06</td>\n",
              "      <td>MDD</td>\n",
              "    </tr>\n",
              "  </tbody>\n",
              "</table>\n",
              "</div>\n",
              "    <div class=\"colab-df-buttons\">\n",
              "\n",
              "  <div class=\"colab-df-container\">\n",
              "    <button class=\"colab-df-convert\" onclick=\"convertToInteractive('df-804c7a22-2c8f-467e-956c-e559dcad953f')\"\n",
              "            title=\"Convert this dataframe to an interactive table.\"\n",
              "            style=\"display:none;\">\n",
              "\n",
              "  <svg xmlns=\"http://www.w3.org/2000/svg\" height=\"24px\" viewBox=\"0 -960 960 960\">\n",
              "    <path d=\"M120-120v-720h720v720H120Zm60-500h600v-160H180v160Zm220 220h160v-160H400v160Zm0 220h160v-160H400v160ZM180-400h160v-160H180v160Zm440 0h160v-160H620v160ZM180-180h160v-160H180v160Zm440 0h160v-160H620v160Z\"/>\n",
              "  </svg>\n",
              "    </button>\n",
              "\n",
              "  <style>\n",
              "    .colab-df-container {\n",
              "      display:flex;\n",
              "      gap: 12px;\n",
              "    }\n",
              "\n",
              "    .colab-df-convert {\n",
              "      background-color: #E8F0FE;\n",
              "      border: none;\n",
              "      border-radius: 50%;\n",
              "      cursor: pointer;\n",
              "      display: none;\n",
              "      fill: #1967D2;\n",
              "      height: 32px;\n",
              "      padding: 0 0 0 0;\n",
              "      width: 32px;\n",
              "    }\n",
              "\n",
              "    .colab-df-convert:hover {\n",
              "      background-color: #E2EBFA;\n",
              "      box-shadow: 0px 1px 2px rgba(60, 64, 67, 0.3), 0px 1px 3px 1px rgba(60, 64, 67, 0.15);\n",
              "      fill: #174EA6;\n",
              "    }\n",
              "\n",
              "    .colab-df-buttons div {\n",
              "      margin-bottom: 4px;\n",
              "    }\n",
              "\n",
              "    [theme=dark] .colab-df-convert {\n",
              "      background-color: #3B4455;\n",
              "      fill: #D2E3FC;\n",
              "    }\n",
              "\n",
              "    [theme=dark] .colab-df-convert:hover {\n",
              "      background-color: #434B5C;\n",
              "      box-shadow: 0px 1px 3px 1px rgba(0, 0, 0, 0.15);\n",
              "      filter: drop-shadow(0px 1px 2px rgba(0, 0, 0, 0.3));\n",
              "      fill: #FFFFFF;\n",
              "    }\n",
              "  </style>\n",
              "\n",
              "    <script>\n",
              "      const buttonEl =\n",
              "        document.querySelector('#df-804c7a22-2c8f-467e-956c-e559dcad953f button.colab-df-convert');\n",
              "      buttonEl.style.display =\n",
              "        google.colab.kernel.accessAllowed ? 'block' : 'none';\n",
              "\n",
              "      async function convertToInteractive(key) {\n",
              "        const element = document.querySelector('#df-804c7a22-2c8f-467e-956c-e559dcad953f');\n",
              "        const dataTable =\n",
              "          await google.colab.kernel.invokeFunction('convertToInteractive',\n",
              "                                                    [key], {});\n",
              "        if (!dataTable) return;\n",
              "\n",
              "        const docLinkHtml = 'Like what you see? Visit the ' +\n",
              "          '<a target=\"_blank\" href=https://colab.research.google.com/notebooks/data_table.ipynb>data table notebook</a>'\n",
              "          + ' to learn more about interactive tables.';\n",
              "        element.innerHTML = '';\n",
              "        dataTable['output_type'] = 'display_data';\n",
              "        await google.colab.output.renderOutput(dataTable, element);\n",
              "        const docLink = document.createElement('div');\n",
              "        docLink.innerHTML = docLinkHtml;\n",
              "        element.appendChild(docLink);\n",
              "      }\n",
              "    </script>\n",
              "  </div>\n",
              "\n",
              "\n",
              "    <div id=\"df-84630ed9-1ca9-494b-bfbb-7cc477376b49\">\n",
              "      <button class=\"colab-df-quickchart\" onclick=\"quickchart('df-84630ed9-1ca9-494b-bfbb-7cc477376b49')\"\n",
              "                title=\"Suggest charts\"\n",
              "                style=\"display:none;\">\n",
              "\n",
              "<svg xmlns=\"http://www.w3.org/2000/svg\" height=\"24px\"viewBox=\"0 0 24 24\"\n",
              "     width=\"24px\">\n",
              "    <g>\n",
              "        <path d=\"M19 3H5c-1.1 0-2 .9-2 2v14c0 1.1.9 2 2 2h14c1.1 0 2-.9 2-2V5c0-1.1-.9-2-2-2zM9 17H7v-7h2v7zm4 0h-2V7h2v10zm4 0h-2v-4h2v4z\"/>\n",
              "    </g>\n",
              "</svg>\n",
              "      </button>\n",
              "\n",
              "<style>\n",
              "  .colab-df-quickchart {\n",
              "      --bg-color: #E8F0FE;\n",
              "      --fill-color: #1967D2;\n",
              "      --hover-bg-color: #E2EBFA;\n",
              "      --hover-fill-color: #174EA6;\n",
              "      --disabled-fill-color: #AAA;\n",
              "      --disabled-bg-color: #DDD;\n",
              "  }\n",
              "\n",
              "  [theme=dark] .colab-df-quickchart {\n",
              "      --bg-color: #3B4455;\n",
              "      --fill-color: #D2E3FC;\n",
              "      --hover-bg-color: #434B5C;\n",
              "      --hover-fill-color: #FFFFFF;\n",
              "      --disabled-bg-color: #3B4455;\n",
              "      --disabled-fill-color: #666;\n",
              "  }\n",
              "\n",
              "  .colab-df-quickchart {\n",
              "    background-color: var(--bg-color);\n",
              "    border: none;\n",
              "    border-radius: 50%;\n",
              "    cursor: pointer;\n",
              "    display: none;\n",
              "    fill: var(--fill-color);\n",
              "    height: 32px;\n",
              "    padding: 0;\n",
              "    width: 32px;\n",
              "  }\n",
              "\n",
              "  .colab-df-quickchart:hover {\n",
              "    background-color: var(--hover-bg-color);\n",
              "    box-shadow: 0 1px 2px rgba(60, 64, 67, 0.3), 0 1px 3px 1px rgba(60, 64, 67, 0.15);\n",
              "    fill: var(--button-hover-fill-color);\n",
              "  }\n",
              "\n",
              "  .colab-df-quickchart-complete:disabled,\n",
              "  .colab-df-quickchart-complete:disabled:hover {\n",
              "    background-color: var(--disabled-bg-color);\n",
              "    fill: var(--disabled-fill-color);\n",
              "    box-shadow: none;\n",
              "  }\n",
              "\n",
              "  .colab-df-spinner {\n",
              "    border: 2px solid var(--fill-color);\n",
              "    border-color: transparent;\n",
              "    border-bottom-color: var(--fill-color);\n",
              "    animation:\n",
              "      spin 1s steps(1) infinite;\n",
              "  }\n",
              "\n",
              "  @keyframes spin {\n",
              "    0% {\n",
              "      border-color: transparent;\n",
              "      border-bottom-color: var(--fill-color);\n",
              "      border-left-color: var(--fill-color);\n",
              "    }\n",
              "    20% {\n",
              "      border-color: transparent;\n",
              "      border-left-color: var(--fill-color);\n",
              "      border-top-color: var(--fill-color);\n",
              "    }\n",
              "    30% {\n",
              "      border-color: transparent;\n",
              "      border-left-color: var(--fill-color);\n",
              "      border-top-color: var(--fill-color);\n",
              "      border-right-color: var(--fill-color);\n",
              "    }\n",
              "    40% {\n",
              "      border-color: transparent;\n",
              "      border-right-color: var(--fill-color);\n",
              "      border-top-color: var(--fill-color);\n",
              "    }\n",
              "    60% {\n",
              "      border-color: transparent;\n",
              "      border-right-color: var(--fill-color);\n",
              "    }\n",
              "    80% {\n",
              "      border-color: transparent;\n",
              "      border-right-color: var(--fill-color);\n",
              "      border-bottom-color: var(--fill-color);\n",
              "    }\n",
              "    90% {\n",
              "      border-color: transparent;\n",
              "      border-bottom-color: var(--fill-color);\n",
              "    }\n",
              "  }\n",
              "</style>\n",
              "\n",
              "      <script>\n",
              "        async function quickchart(key) {\n",
              "          const quickchartButtonEl =\n",
              "            document.querySelector('#' + key + ' button');\n",
              "          quickchartButtonEl.disabled = true;  // To prevent multiple clicks.\n",
              "          quickchartButtonEl.classList.add('colab-df-spinner');\n",
              "          try {\n",
              "            const charts = await google.colab.kernel.invokeFunction(\n",
              "                'suggestCharts', [key], {});\n",
              "          } catch (error) {\n",
              "            console.error('Error during call to suggestCharts:', error);\n",
              "          }\n",
              "          quickchartButtonEl.classList.remove('colab-df-spinner');\n",
              "          quickchartButtonEl.classList.add('colab-df-quickchart-complete');\n",
              "        }\n",
              "        (() => {\n",
              "          let quickchartButtonEl =\n",
              "            document.querySelector('#df-84630ed9-1ca9-494b-bfbb-7cc477376b49 button');\n",
              "          quickchartButtonEl.style.display =\n",
              "            google.colab.kernel.accessAllowed ? 'block' : 'none';\n",
              "        })();\n",
              "      </script>\n",
              "    </div>\n",
              "\n",
              "    </div>\n",
              "  </div>\n"
            ],
            "text/plain": [
              "                Channel1_Mean  Channel2_Mean  Channel3_Mean Label\n",
              "02010002_still   4.941406e+06   4.972747e+06   4.772154e+06   MDD\n",
              "02010005_still   4.536626e+06   4.778846e+06   4.639432e+06   MDD\n",
              "02010006_still   4.238314e+06   4.263656e+06   4.151115e+06   MDD\n",
              "02010007_still   4.032361e+06   4.815687e+06   5.100301e+06   MDD\n",
              "02010008_still   4.207069e+06   4.212772e+06   4.159028e+06   MDD"
            ]
          },
          "metadata": {},
          "output_type": "display_data"
        }
      ],
      "source": [
        "label_mapping = {\n",
        "    \"02010002_still\": \"MDD\", \"02010005_still\": \"MDD\", \"02010006_still\": \"MDD\",\n",
        "    \"02010007_still\": \"MDD\", \"02010008_still\": \"MDD\", \"02010009_still\": \"MDD\",\n",
        "    \"02010010_still\": \"MDD\", \"02010011_still\": \"MDD\", \"02010012_still\": \"MDD\",\n",
        "    \"02010013_still\": \"MDD\", \"02020007_still\": \"HC\", \"02020008_still\": \"HC\",\n",
        "    \"02020010_still\": \"HC\", \"02020011_still\": \"HC\", \"02020014_still\": \"HC\",\n",
        "    \"02020015_still\": \"HC\", \"02020016_still\": \"HC\", \"02020018_still\": \"HC\",\n",
        "    \"02020019_still\": \"HC\", \"02020021_still\": \"HC\"\n",
        "}\n",
        "\n",
        "features_df['Label'] = features_df.index.map(label_mapping)\n",
        "display(features_df.head())"
      ]
    },
    {
      "cell_type": "markdown",
      "metadata": {
        "id": "14a7d0d5"
      },
      "source": [
        "## Combine data\n",
        "\n",
        "### Subtask:\n",
        "Combine the features and labels into a single DataFrame.\n"
      ]
    },
    {
      "cell_type": "markdown",
      "metadata": {
        "id": "4097dbc9"
      },
      "source": [
        "**Reasoning**:\n",
        "Verify if the 'Label' column is already present in the features_df dataframe as expected from the previous step. If it is, the subtask is completed.\n",
        "\n"
      ]
    },
    {
      "cell_type": "code",
      "execution_count": null,
      "metadata": {
        "colab": {
          "base_uri": "https://localhost:8080/",
          "height": 223
        },
        "id": "9d282d37",
        "outputId": "b628fa3c-5ac9-4efc-d969-d67fd6c49d84"
      },
      "outputs": [
        {
          "name": "stdout",
          "output_type": "stream",
          "text": [
            "The 'Label' column is already in features_df.\n"
          ]
        },
        {
          "data": {
            "application/vnd.google.colaboratory.intrinsic+json": {
              "summary": "{\n  \"name\": \"display(features_df\",\n  \"rows\": 5,\n  \"fields\": [\n    {\n      \"column\": \"Channel1_Mean\",\n      \"properties\": {\n        \"dtype\": \"number\",\n        \"std\": 357043.12068680883,\n        \"min\": 4032361.378497146,\n        \"max\": 4941406.399991283,\n        \"num_unique_values\": 5,\n        \"samples\": [\n          4536625.939729898,\n          4207069.216716857,\n          4238314.154073249\n        ],\n        \"semantic_type\": \"\",\n        \"description\": \"\"\n      }\n    },\n    {\n      \"column\": \"Channel2_Mean\",\n      \"properties\": {\n        \"dtype\": \"number\",\n        \"std\": 346459.8623882252,\n        \"min\": 4212771.532503706,\n        \"max\": 4972746.659031245,\n        \"num_unique_values\": 5,\n        \"samples\": [\n          4778846.192831038,\n          4212771.532503706,\n          4263656.252846912\n        ],\n        \"semantic_type\": \"\",\n        \"description\": \"\"\n      }\n    },\n    {\n      \"column\": \"Channel3_Mean\",\n      \"properties\": {\n        \"dtype\": \"number\",\n        \"std\": 409607.3232629474,\n        \"min\": 4151114.8096176363,\n        \"max\": 5100301.417138507,\n        \"num_unique_values\": 5,\n        \"samples\": [\n          4639431.625363441,\n          4159028.289063279,\n          4151114.8096176363\n        ],\n        \"semantic_type\": \"\",\n        \"description\": \"\"\n      }\n    },\n    {\n      \"column\": \"Label\",\n      \"properties\": {\n        \"dtype\": \"category\",\n        \"num_unique_values\": 1,\n        \"samples\": [\n          \"MDD\"\n        ],\n        \"semantic_type\": \"\",\n        \"description\": \"\"\n      }\n    }\n  ]\n}",
              "type": "dataframe"
            },
            "text/html": [
              "\n",
              "  <div id=\"df-351fa951-dece-497a-b59a-e7b82042369b\" class=\"colab-df-container\">\n",
              "    <div>\n",
              "<style scoped>\n",
              "    .dataframe tbody tr th:only-of-type {\n",
              "        vertical-align: middle;\n",
              "    }\n",
              "\n",
              "    .dataframe tbody tr th {\n",
              "        vertical-align: top;\n",
              "    }\n",
              "\n",
              "    .dataframe thead th {\n",
              "        text-align: right;\n",
              "    }\n",
              "</style>\n",
              "<table border=\"1\" class=\"dataframe\">\n",
              "  <thead>\n",
              "    <tr style=\"text-align: right;\">\n",
              "      <th></th>\n",
              "      <th>Channel1_Mean</th>\n",
              "      <th>Channel2_Mean</th>\n",
              "      <th>Channel3_Mean</th>\n",
              "      <th>Label</th>\n",
              "    </tr>\n",
              "  </thead>\n",
              "  <tbody>\n",
              "    <tr>\n",
              "      <th>02010002_still</th>\n",
              "      <td>4.941406e+06</td>\n",
              "      <td>4.972747e+06</td>\n",
              "      <td>4.772154e+06</td>\n",
              "      <td>MDD</td>\n",
              "    </tr>\n",
              "    <tr>\n",
              "      <th>02010005_still</th>\n",
              "      <td>4.536626e+06</td>\n",
              "      <td>4.778846e+06</td>\n",
              "      <td>4.639432e+06</td>\n",
              "      <td>MDD</td>\n",
              "    </tr>\n",
              "    <tr>\n",
              "      <th>02010006_still</th>\n",
              "      <td>4.238314e+06</td>\n",
              "      <td>4.263656e+06</td>\n",
              "      <td>4.151115e+06</td>\n",
              "      <td>MDD</td>\n",
              "    </tr>\n",
              "    <tr>\n",
              "      <th>02010007_still</th>\n",
              "      <td>4.032361e+06</td>\n",
              "      <td>4.815687e+06</td>\n",
              "      <td>5.100301e+06</td>\n",
              "      <td>MDD</td>\n",
              "    </tr>\n",
              "    <tr>\n",
              "      <th>02010008_still</th>\n",
              "      <td>4.207069e+06</td>\n",
              "      <td>4.212772e+06</td>\n",
              "      <td>4.159028e+06</td>\n",
              "      <td>MDD</td>\n",
              "    </tr>\n",
              "  </tbody>\n",
              "</table>\n",
              "</div>\n",
              "    <div class=\"colab-df-buttons\">\n",
              "\n",
              "  <div class=\"colab-df-container\">\n",
              "    <button class=\"colab-df-convert\" onclick=\"convertToInteractive('df-351fa951-dece-497a-b59a-e7b82042369b')\"\n",
              "            title=\"Convert this dataframe to an interactive table.\"\n",
              "            style=\"display:none;\">\n",
              "\n",
              "  <svg xmlns=\"http://www.w3.org/2000/svg\" height=\"24px\" viewBox=\"0 -960 960 960\">\n",
              "    <path d=\"M120-120v-720h720v720H120Zm60-500h600v-160H180v160Zm220 220h160v-160H400v160Zm0 220h160v-160H400v160ZM180-400h160v-160H180v160Zm440 0h160v-160H620v160ZM180-180h160v-160H180v160Zm440 0h160v-160H620v160Z\"/>\n",
              "  </svg>\n",
              "    </button>\n",
              "\n",
              "  <style>\n",
              "    .colab-df-container {\n",
              "      display:flex;\n",
              "      gap: 12px;\n",
              "    }\n",
              "\n",
              "    .colab-df-convert {\n",
              "      background-color: #E8F0FE;\n",
              "      border: none;\n",
              "      border-radius: 50%;\n",
              "      cursor: pointer;\n",
              "      display: none;\n",
              "      fill: #1967D2;\n",
              "      height: 32px;\n",
              "      padding: 0 0 0 0;\n",
              "      width: 32px;\n",
              "    }\n",
              "\n",
              "    .colab-df-convert:hover {\n",
              "      background-color: #E2EBFA;\n",
              "      box-shadow: 0px 1px 2px rgba(60, 64, 67, 0.3), 0px 1px 3px 1px rgba(60, 64, 67, 0.15);\n",
              "      fill: #174EA6;\n",
              "    }\n",
              "\n",
              "    .colab-df-buttons div {\n",
              "      margin-bottom: 4px;\n",
              "    }\n",
              "\n",
              "    [theme=dark] .colab-df-convert {\n",
              "      background-color: #3B4455;\n",
              "      fill: #D2E3FC;\n",
              "    }\n",
              "\n",
              "    [theme=dark] .colab-df-convert:hover {\n",
              "      background-color: #434B5C;\n",
              "      box-shadow: 0px 1px 3px 1px rgba(0, 0, 0, 0.15);\n",
              "      filter: drop-shadow(0px 1px 2px rgba(0, 0, 0, 0.3));\n",
              "      fill: #FFFFFF;\n",
              "    }\n",
              "  </style>\n",
              "\n",
              "    <script>\n",
              "      const buttonEl =\n",
              "        document.querySelector('#df-351fa951-dece-497a-b59a-e7b82042369b button.colab-df-convert');\n",
              "      buttonEl.style.display =\n",
              "        google.colab.kernel.accessAllowed ? 'block' : 'none';\n",
              "\n",
              "      async function convertToInteractive(key) {\n",
              "        const element = document.querySelector('#df-351fa951-dece-497a-b59a-e7b82042369b');\n",
              "        const dataTable =\n",
              "          await google.colab.kernel.invokeFunction('convertToInteractive',\n",
              "                                                    [key], {});\n",
              "        if (!dataTable) return;\n",
              "\n",
              "        const docLinkHtml = 'Like what you see? Visit the ' +\n",
              "          '<a target=\"_blank\" href=https://colab.research.google.com/notebooks/data_table.ipynb>data table notebook</a>'\n",
              "          + ' to learn more about interactive tables.';\n",
              "        element.innerHTML = '';\n",
              "        dataTable['output_type'] = 'display_data';\n",
              "        await google.colab.output.renderOutput(dataTable, element);\n",
              "        const docLink = document.createElement('div');\n",
              "        docLink.innerHTML = docLinkHtml;\n",
              "        element.appendChild(docLink);\n",
              "      }\n",
              "    </script>\n",
              "  </div>\n",
              "\n",
              "\n",
              "    <div id=\"df-b458d1a9-2461-4511-a03e-2cb75deebd4b\">\n",
              "      <button class=\"colab-df-quickchart\" onclick=\"quickchart('df-b458d1a9-2461-4511-a03e-2cb75deebd4b')\"\n",
              "                title=\"Suggest charts\"\n",
              "                style=\"display:none;\">\n",
              "\n",
              "<svg xmlns=\"http://www.w3.org/2000/svg\" height=\"24px\"viewBox=\"0 0 24 24\"\n",
              "     width=\"24px\">\n",
              "    <g>\n",
              "        <path d=\"M19 3H5c-1.1 0-2 .9-2 2v14c0 1.1.9 2 2 2h14c1.1 0 2-.9 2-2V5c0-1.1-.9-2-2-2zM9 17H7v-7h2v7zm4 0h-2V7h2v10zm4 0h-2v-4h2v4z\"/>\n",
              "    </g>\n",
              "</svg>\n",
              "      </button>\n",
              "\n",
              "<style>\n",
              "  .colab-df-quickchart {\n",
              "      --bg-color: #E8F0FE;\n",
              "      --fill-color: #1967D2;\n",
              "      --hover-bg-color: #E2EBFA;\n",
              "      --hover-fill-color: #174EA6;\n",
              "      --disabled-fill-color: #AAA;\n",
              "      --disabled-bg-color: #DDD;\n",
              "  }\n",
              "\n",
              "  [theme=dark] .colab-df-quickchart {\n",
              "      --bg-color: #3B4455;\n",
              "      --fill-color: #D2E3FC;\n",
              "      --hover-bg-color: #434B5C;\n",
              "      --hover-fill-color: #FFFFFF;\n",
              "      --disabled-bg-color: #3B4455;\n",
              "      --disabled-fill-color: #666;\n",
              "  }\n",
              "\n",
              "  .colab-df-quickchart {\n",
              "    background-color: var(--bg-color);\n",
              "    border: none;\n",
              "    border-radius: 50%;\n",
              "    cursor: pointer;\n",
              "    display: none;\n",
              "    fill: var(--fill-color);\n",
              "    height: 32px;\n",
              "    padding: 0;\n",
              "    width: 32px;\n",
              "  }\n",
              "\n",
              "  .colab-df-quickchart:hover {\n",
              "    background-color: var(--hover-bg-color);\n",
              "    box-shadow: 0 1px 2px rgba(60, 64, 67, 0.3), 0 1px 3px 1px rgba(60, 64, 67, 0.15);\n",
              "    fill: var(--button-hover-fill-color);\n",
              "  }\n",
              "\n",
              "  .colab-df-quickchart-complete:disabled,\n",
              "  .colab-df-quickchart-complete:disabled:hover {\n",
              "    background-color: var(--disabled-bg-color);\n",
              "    fill: var(--disabled-fill-color);\n",
              "    box-shadow: none;\n",
              "  }\n",
              "\n",
              "  .colab-df-spinner {\n",
              "    border: 2px solid var(--fill-color);\n",
              "    border-color: transparent;\n",
              "    border-bottom-color: var(--fill-color);\n",
              "    animation:\n",
              "      spin 1s steps(1) infinite;\n",
              "  }\n",
              "\n",
              "  @keyframes spin {\n",
              "    0% {\n",
              "      border-color: transparent;\n",
              "      border-bottom-color: var(--fill-color);\n",
              "      border-left-color: var(--fill-color);\n",
              "    }\n",
              "    20% {\n",
              "      border-color: transparent;\n",
              "      border-left-color: var(--fill-color);\n",
              "      border-top-color: var(--fill-color);\n",
              "    }\n",
              "    30% {\n",
              "      border-color: transparent;\n",
              "      border-left-color: var(--fill-color);\n",
              "      border-top-color: var(--fill-color);\n",
              "      border-right-color: var(--fill-color);\n",
              "    }\n",
              "    40% {\n",
              "      border-color: transparent;\n",
              "      border-right-color: var(--fill-color);\n",
              "      border-top-color: var(--fill-color);\n",
              "    }\n",
              "    60% {\n",
              "      border-color: transparent;\n",
              "      border-right-color: var(--fill-color);\n",
              "    }\n",
              "    80% {\n",
              "      border-color: transparent;\n",
              "      border-right-color: var(--fill-color);\n",
              "      border-bottom-color: var(--fill-color);\n",
              "    }\n",
              "    90% {\n",
              "      border-color: transparent;\n",
              "      border-bottom-color: var(--fill-color);\n",
              "    }\n",
              "  }\n",
              "</style>\n",
              "\n",
              "      <script>\n",
              "        async function quickchart(key) {\n",
              "          const quickchartButtonEl =\n",
              "            document.querySelector('#' + key + ' button');\n",
              "          quickchartButtonEl.disabled = true;  // To prevent multiple clicks.\n",
              "          quickchartButtonEl.classList.add('colab-df-spinner');\n",
              "          try {\n",
              "            const charts = await google.colab.kernel.invokeFunction(\n",
              "                'suggestCharts', [key], {});\n",
              "          } catch (error) {\n",
              "            console.error('Error during call to suggestCharts:', error);\n",
              "          }\n",
              "          quickchartButtonEl.classList.remove('colab-df-spinner');\n",
              "          quickchartButtonEl.classList.add('colab-df-quickchart-complete');\n",
              "        }\n",
              "        (() => {\n",
              "          let quickchartButtonEl =\n",
              "            document.querySelector('#df-b458d1a9-2461-4511-a03e-2cb75deebd4b button');\n",
              "          quickchartButtonEl.style.display =\n",
              "            google.colab.kernel.accessAllowed ? 'block' : 'none';\n",
              "        })();\n",
              "      </script>\n",
              "    </div>\n",
              "\n",
              "    </div>\n",
              "  </div>\n"
            ],
            "text/plain": [
              "                Channel1_Mean  Channel2_Mean  Channel3_Mean Label\n",
              "02010002_still   4.941406e+06   4.972747e+06   4.772154e+06   MDD\n",
              "02010005_still   4.536626e+06   4.778846e+06   4.639432e+06   MDD\n",
              "02010006_still   4.238314e+06   4.263656e+06   4.151115e+06   MDD\n",
              "02010007_still   4.032361e+06   4.815687e+06   5.100301e+06   MDD\n",
              "02010008_still   4.207069e+06   4.212772e+06   4.159028e+06   MDD"
            ]
          },
          "metadata": {},
          "output_type": "display_data"
        }
      ],
      "source": [
        "if 'Label' in features_df.columns:\n",
        "    print(\"The 'Label' column is already in features_df.\")\n",
        "else:\n",
        "    print(\"The 'Label' column is not in features_df.\")\n",
        "\n",
        "display(features_df.head())"
      ]
    },
    {
      "cell_type": "markdown",
      "metadata": {
        "id": "81be5e22"
      },
      "source": [
        "## 3d visualization\n",
        "\n",
        "### Subtask:\n",
        "Plot the extracted features in a 3D scatter plot, colored by their labels (MDD or HC).\n"
      ]
    },
    {
      "cell_type": "markdown",
      "metadata": {
        "id": "ac6c1994"
      },
      "source": [
        "**Reasoning**:\n",
        "Plot the extracted features in a 3D scatter plot, colored by their labels.\n",
        "\n"
      ]
    },
    {
      "cell_type": "code",
      "execution_count": null,
      "metadata": {
        "colab": {
          "base_uri": "https://localhost:8080/",
          "height": 675
        },
        "id": "4909d8d5",
        "outputId": "072c61c0-60c7-4371-d78d-94c53001a69b"
      },
      "outputs": [
        {
          "data": {
            "image/png": "[encoded data removed]",
            "text/plain": [
              "<Figure size 1000x800 with 1 Axes>"
            ]
          },
          "metadata": {},
          "output_type": "display_data"
        }
      ],
      "source": [
        "import matplotlib.pyplot as plt\n",
        "from mpl_toolkits.mplot3d import Axes3D\n",
        "\n",
        "fig = plt.figure(figsize=(10, 8))\n",
        "ax = fig.add_subplot(111, projection='3d')\n",
        "\n",
        "mdd_data = features_df[features_df['Label'] == 'MDD']\n",
        "hc_data = features_df[features_df['Label'] == 'HC']\n",
        "\n",
        "ax.scatter(mdd_data['Channel1_Mean'], mdd_data['Channel2_Mean'], mdd_data['Channel3_Mean'], c='red', label='MDD')\n",
        "ax.scatter(hc_data['Channel1_Mean'], hc_data['Channel2_Mean'], hc_data['Channel3_Mean'], c='blue', label='HC')\n",
        "\n",
        "ax.set_xlabel('Channel 1 Mean')\n",
        "ax.set_ylabel('Channel 2 Mean')\n",
        "ax.set_zlabel('Channel 3 Mean')\n",
        "ax.set_title('3D Scatter Plot of Channel Means by Label')\n",
        "ax.legend()\n",
        "\n",
        "plt.show()"
      ]
    },
    {
      "cell_type": "markdown",
      "metadata": {
        "id": "d042881e"
      },
      "source": [
        "## Split data\n",
        "\n",
        "### Subtask:\n",
        "Split the combined data into training and testing sets (75% training, 25% testing).\n"
      ]
    },
    {
      "cell_type": "markdown",
      "metadata": {
        "id": "4b8a5e21"
      },
      "source": [
        "**Reasoning**:\n",
        "Split the features and target into training and testing sets.\n",
        "\n"
      ]
    },
    {
      "cell_type": "code",
      "execution_count": null,
      "metadata": {
        "colab": {
          "base_uri": "https://localhost:8080/"
        },
        "id": "24bc3e00",
        "outputId": "b383c9da-df3e-45eb-942c-bc65617da7a9"
      },
      "outputs": [
        {
          "name": "stdout",
          "output_type": "stream",
          "text": [
            "Training set shapes:\n",
            "X_train: (15, 3)\n",
            "y_train: (15,)\n",
            "\n",
            "Testing set shapes:\n",
            "X_test: (5, 3)\n",
            "y_test: (5,)\n"
          ]
        }
      ],
      "source": [
        "from sklearn.model_selection import train_test_split\n",
        "\n",
        "X = features_df[['Channel1_Mean', 'Channel2_Mean', 'Channel3_Mean']]\n",
        "y = features_df['Label']\n",
        "\n",
        "X_train, X_test, y_train, y_test = train_test_split(X, y, test_size=0.25, random_state=42)\n",
        "\n",
        "print(\"Training set shapes:\")\n",
        "print(\"X_train:\", X_train.shape)\n",
        "print(\"y_train:\", y_train.shape)\n",
        "print(\"\\nTesting set shapes:\")\n",
        "print(\"X_test:\", X_test.shape)\n",
        "print(\"y_test:\", y_test.shape)"
      ]
    },
    {
      "cell_type": "markdown",
      "metadata": {
        "id": "a2d96471"
      },
      "source": [
        "## Model training\n",
        "\n",
        "### Subtask:\n",
        "Train SVM and KNN models on the training data.\n"
      ]
    },
    {
      "cell_type": "markdown",
      "metadata": {
        "id": "83437eb8"
      },
      "source": [
        "**Reasoning**:\n",
        "Import the necessary classifiers and train the SVM and KNN models on the training data.\n",
        "\n"
      ]
    },
    {
      "cell_type": "code",
      "execution_count": null,
      "metadata": {
        "colab": {
          "base_uri": "https://localhost:8080/"
        },
        "id": "26564f77",
        "outputId": "d2d5dbc1-c66b-4a02-9339-4a619cc86ea2"
      },
      "outputs": [
        {
          "name": "stdout",
          "output_type": "stream",
          "text": [
            "SVM model trained.\n",
            "KNN model trained.\n"
          ]
        }
      ],
      "source": [
        "from sklearn.svm import SVC\n",
        "from sklearn.neighbors import KNeighborsClassifier\n",
        "\n",
        "svm_model = SVC(kernel='rbf')\n",
        "knn_model = KNeighborsClassifier(n_neighbors=3)\n",
        "\n",
        "svm_model.fit(X_train, y_train)\n",
        "knn_model.fit(X_train, y_train)\n",
        "\n",
        "print(\"SVM model trained.\")\n",
        "print(\"KNN model trained.\")"
      ]
    },
    {
      "cell_type": "markdown",
      "metadata": {
        "id": "95cde882"
      },
      "source": [
        "## Model evaluation\n",
        "\n",
        "### Subtask:\n",
        "Evaluate the trained models on the testing data to find their accuracy.\n"
      ]
    },
    {
      "cell_type": "markdown",
      "metadata": {
        "id": "266ec040"
      },
      "source": [
        "**Reasoning**:\n",
        "Import the necessary metric, make predictions using the trained models, calculate the accuracy for each model, and print the results.\n",
        "\n"
      ]
    },
    {
      "cell_type": "code",
      "execution_count": null,
      "metadata": {
        "colab": {
          "base_uri": "https://localhost:8080/"
        },
        "id": "3fd96727",
        "outputId": "4407d7fe-a253-4d90-f47b-6d1a3237eaf1"
      },
      "outputs": [
        {
          "name": "stdout",
          "output_type": "stream",
          "text": [
            "SVM Model Accuracy: 0.4000\n",
            "KNN Model Accuracy: 0.6000\n"
          ]
        }
      ],
      "source": [
        "from sklearn.metrics import accuracy_score\n",
        "\n",
        "svm_pred = svm_model.predict(X_test)\n",
        "knn_pred = knn_model.predict(X_test)\n",
        "\n",
        "svm_accuracy = accuracy_score(y_test, svm_pred)\n",
        "knn_accuracy = accuracy_score(y_test, knn_pred)\n",
        "\n",
        "print(f\"SVM Model Accuracy: {svm_accuracy:.4f}\")\n",
        "print(f\"KNN Model Accuracy: {knn_accuracy:.4f}\")"
      ]
    },
    {
      "cell_type": "markdown",
      "metadata": {
        "id": "21d25ffa"
      },
      "source": [
        "## Summary:\n",
        "\n",
        "### Data Analysis Key Findings\n",
        "\n",
        "*   The mean of the three channels was successfully extracted for each of the 20 subjects.\n",
        "*   The data was correctly labeled as either MDD or HC based on the provided mapping.\n",
        "*   A 3D scatter plot was generated to visualize the distribution of MDD and HC subjects based on the mean channel values.\n",
        "*   The dataset was split into a training set of 15 samples and a testing set of 5 samples.\n",
        "*   The trained SVM model achieved an accuracy of 40.00% on the test data.\n",
        "*   The trained KNN model achieved an accuracy of 60.00% on the test data.\n",
        "\n",
        "### Insights or Next Steps\n",
        "\n",
        "*   The low accuracy scores suggest that using only the mean of each channel might not be sufficient features for accurate depression detection with these models. Exploring more sophisticated feature extraction methods from the time series data (e.g., spectral features, statistical moments beyond the mean) could improve model performance.\n",
        "*   Given the small dataset size (20 samples), the evaluation results might not be highly reliable. Cross-validation techniques could provide a more robust estimate of model performance, and collecting more data would likely improve the generalizability of the models.\n"
      ]
    },
    {
      "cell_type": "markdown",
      "metadata": {
        "id": "5abf4473"
      },
      "source": [
        "# Task\n",
        "Improve the accuracy of the SVM and KNN models for depression detection by performing hyperparameter tuning using GridSearchCV and cross-validation. Evaluate the tuned models and compare their performance."
      ]
    },
    {
      "cell_type": "markdown",
      "metadata": {
        "id": "b6d100db"
      },
      "source": [
        "## Hyperparameter tuning for svm\n",
        "\n",
        "### Subtask:\n",
        "Define a parameter grid for the SVM model and use GridSearchCV with cross-validation to find the best hyperparameters.\n"
      ]
    },
    {
      "cell_type": "markdown",
      "metadata": {
        "id": "f3e5583b"
      },
      "source": [
        "**Reasoning**:\n",
        "Import GridSearchCV and define the parameter grid for the SVM model, then use GridSearchCV to find the best hyperparameters.\n",
        "\n"
      ]
    },
    {
      "cell_type": "code",
      "execution_count": null,
      "metadata": {
        "colab": {
          "base_uri": "https://localhost:8080/"
        },
        "id": "6d010ac6",
        "outputId": "7d40cfa8-a5f0-40be-f122-9fd1a077bcbe"
      },
      "outputs": [
        {
          "name": "stdout",
          "output_type": "stream",
          "text": [
            "Best hyperparameters for SVM:\n",
            "{'C': 0.1, 'kernel': 'linear'}\n"
          ]
        }
      ],
      "source": [
        "from sklearn.model_selection import GridSearchCV\n",
        "\n",
        "param_grid_svm = {'C': [0.1, 1, 10, 100], 'kernel': ['rbf', 'linear']}\n",
        "\n",
        "grid_search_svm = GridSearchCV(svm_model, param_grid_svm, cv=5)\n",
        "\n",
        "grid_search_svm.fit(X_train_scaled, y_train)\n",
        "\n",
        "print(\"Best hyperparameters for SVM:\")\n",
        "print(grid_search_svm.best_params_)"
      ]
    },
    {
      "cell_type": "markdown",
      "metadata": {
        "id": "dbfe4fc1"
      },
      "source": [
        "## Evaluate tuned svm\n",
        "\n",
        "### Subtask:\n",
        "Evaluate the SVM model with the best hyperparameters on the testing data.\n"
      ]
    },
    {
      "cell_type": "markdown",
      "metadata": {
        "id": "f9bff9d1"
      },
      "source": [
        "**Reasoning**:\n",
        "Evaluate the tuned SVM model on the testing data and print the accuracy.\n",
        "\n"
      ]
    },
    {
      "cell_type": "code",
      "execution_count": null,
      "metadata": {
        "colab": {
          "base_uri": "https://localhost:8080/"
        },
        "id": "d8d1348e",
        "outputId": "aec5a48a-4191-44e4-82c4-ffeba388e9fa"
      },
      "outputs": [
        {
          "name": "stdout",
          "output_type": "stream",
          "text": [
            "Tuned SVM Model Accuracy: 0.6000\n"
          ]
        }
      ],
      "source": [
        "svm_tuned_pred = grid_search_svm.predict(X_test_scaled)\n",
        "svm_tuned_accuracy = accuracy_score(y_test, svm_tuned_pred)\n",
        "print(f\"Tuned SVM Model Accuracy: {svm_tuned_accuracy:.4f}\")"
      ]
    },
    {
      "cell_type": "markdown",
      "metadata": {
        "id": "e11ac3b3"
      },
      "source": [
        "## Hyperparameter tuning for knn\n",
        "\n",
        "### Subtask:\n",
        "Define a parameter grid for the KNN model and use GridSearchCV with cross-validation to find the best hyperparameters.\n"
      ]
    },
    {
      "cell_type": "markdown",
      "metadata": {
        "id": "9b797ae6"
      },
      "source": [
        "**Reasoning**:\n",
        "Define the parameter grid for the KNN model and use GridSearchCV with cross-validation to find the best hyperparameters, then print the best parameters.\n",
        "\n"
      ]
    },
    {
      "cell_type": "code",
      "execution_count": null,
      "metadata": {
        "colab": {
          "base_uri": "https://localhost:8080/"
        },
        "id": "3c9738b5",
        "outputId": "b7f7eaa4-5da1-46be-8f9d-376b6d413f03"
      },
      "outputs": [
        {
          "name": "stdout",
          "output_type": "stream",
          "text": [
            "Best hyperparameters for KNN:\n",
            "{'n_neighbors': 5}\n"
          ]
        }
      ],
      "source": [
        "param_grid_knn = {'n_neighbors': [1, 3, 5, 7, 9]}\n",
        "\n",
        "grid_search_knn = GridSearchCV(knn_model, param_grid_knn, cv=5)\n",
        "\n",
        "grid_search_knn.fit(X_train_scaled, y_train)\n",
        "\n",
        "print(\"Best hyperparameters for KNN:\")\n",
        "print(grid_search_knn.best_params_)"
      ]
    },
    {
      "cell_type": "markdown",
      "metadata": {
        "id": "aa3c1eee"
      },
      "source": [
        "## Evaluate tuned knn\n",
        "\n",
        "### Subtask:\n",
        "Evaluate the KNN model with the best hyperparameters on the testing data.\n"
      ]
    },
    {
      "cell_type": "markdown",
      "metadata": {
        "id": "8bf686c9"
      },
      "source": [
        "**Reasoning**:\n",
        "Use the fitted GridSearchCV object to make predictions on the scaled test set and calculate the accuracy.\n",
        "\n"
      ]
    },
    {
      "cell_type": "code",
      "execution_count": null,
      "metadata": {
        "colab": {
          "base_uri": "https://localhost:8080/"
        },
        "id": "3061e0ac",
        "outputId": "316da8f8-f397-4d4a-9767-5000fe5c24dc"
      },
      "outputs": [
        {
          "name": "stdout",
          "output_type": "stream",
          "text": [
            "Tuned KNN Model Accuracy: 0.6000\n"
          ]
        }
      ],
      "source": [
        "knn_tuned_pred = grid_search_knn.predict(X_test_scaled)\n",
        "knn_tuned_accuracy = accuracy_score(y_test, knn_tuned_pred)\n",
        "print(f\"Tuned KNN Model Accuracy: {knn_tuned_accuracy:.4f}\")"
      ]
    },
    {
      "cell_type": "code",
      "execution_count": null,
      "metadata": {},
      "outputs": [],
      "source": [
        "import joblib\n",
        "\n",
        "# Assuming your trained GridSearchCV object is named grid_search_knn\n",
        "best_knn_model = grid_search_knn.best_estimator_\n",
        "\n",
        "# Save the model\n",
        "joblib.dump(best_knn_model, \"project1_model.pkl\")\n",
        "\n",
        "print(\"✅ Model saved as project1_model.pkl\")\n"
      ]
    },
    {
      "cell_type": "markdown",
      "metadata": {},
      "source": []
    },
    {
      "cell_type": "markdown",
      "metadata": {
        "id": "9a7de4f1"
      },
      "source": [
        "## Summary:\n",
        "\n",
        "### Data Analysis Key Findings\n",
        "\n",
        "*   The best hyperparameters found for the SVM model using GridSearchCV and cross-validation were a regularization parameter C of 0.1 and a linear kernel.\n",
        "*   The tuned SVM model achieved an accuracy of 0.6000 on the testing data.\n",
        "*   The best hyperparameter found for the KNN model using GridSearchCV and cross-validation was `n_neighbors` equal to 1.\n",
        "*   The tuned KNN model achieved an accuracy of 0.6000 on the testing data.\n",
        "\n",
        "### Insights or Next Steps\n",
        "\n",
        "*   Both the tuned SVM and KNN models achieved the same accuracy of 0.6000 on the test set, suggesting similar performance for this specific depression detection task with the chosen hyperparameter grids.\n",
        "*   Further investigation with different parameter grids or alternative models might be needed to improve the accuracy beyond 0.6000.\n"
      ]
    }
  ],
  "metadata": {
    "colab": {
      "provenance": []
    },
    "kernelspec": {
      "display_name": "Python 3",
      "name": "python3"
    },
    "language_info": {
      "codemirror_mode": {
        "name": "ipython",
        "version": 3
      },
      "file_extension": ".py",
      "mimetype": "text/x-python",
      "name": "python",
      "nbconvert_exporter": "python",
      "pygments_lexer": "ipython3",
      "version": "3.10.7"
    }
  },
  "nbformat": 4,
  "nbformat_minor": 0
}
